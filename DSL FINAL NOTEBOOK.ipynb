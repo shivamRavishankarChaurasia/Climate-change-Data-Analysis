{
 "cells": [
  {
   "cell_type": "markdown",
   "id": "e746bc30",
   "metadata": {},
   "source": [
    "Problem Statement of our project"
   ]
  },
  {
   "cell_type": "markdown",
   "id": "0aa83a20",
   "metadata": {},
   "source": [
    "# Mumbai, the financial capital of India, has been experiencing significant changes in its climate over the past few decades. The city is prone to extreme weather events, such as heavy rainfall, flooding and sea-level rise, which can have a severe impact on the environment, infrastructure, and public health. So The problem statement is to analyze the climate change patterns in Mumbai through data analysis by using power bi, jupyter notebook to better understand the current climate scenario and predict future trends."
   ]
  },
  {
   "cell_type": "code",
   "execution_count": null,
   "id": "61866abe",
   "metadata": {},
   "outputs": [],
   "source": [
    "import numpy as np \n",
    "import pandas as pd \n",
    "import matplotlib.pyplot as plt \n",
    "import seaborn as sns\n",
    "%matplotlib inline\n",
    "from sklearn.model_selection import train_test_split \n",
    "import missingno as msno"
   ]
  },
  {
   "cell_type": "code",
   "execution_count": null,
   "id": "54c59e44",
   "metadata": {},
   "outputs": [],
   "source": [
    "data = pd.read_csv(\"climate change datasets.csv\" , index_col = \"DATE\")"
   ]
  },
  {
   "cell_type": "code",
   "execution_count": null,
   "id": "a25cdaa8",
   "metadata": {},
   "outputs": [
    {
     "name": "stdout",
     "output_type": "stream",
     "text": [
      "                STATION                  NAME  LATITUDE  LONGITUDE  ELEVATION  \\\n",
      "DATE                                                                            \n",
      "2000-01-01  IN012070800  BOMBAY SANTACRUZ, IN    19.117      72.85       14.0   \n",
      "2000-01-02  IN012070800  BOMBAY SANTACRUZ, IN    19.117      72.85       14.0   \n",
      "2000-01-03  IN012070800  BOMBAY SANTACRUZ, IN    19.117      72.85       14.0   \n",
      "2000-01-04  IN012070800  BOMBAY SANTACRUZ, IN    19.117      72.85       14.0   \n",
      "2000-01-05  IN012070800  BOMBAY SANTACRUZ, IN    19.117      72.85       14.0   \n",
      "...                 ...                   ...       ...        ...        ...   \n",
      "2022-12-28  IN012070800  BOMBAY SANTACRUZ, IN    19.117      72.85       14.0   \n",
      "2022-12-29  IN012070800  BOMBAY SANTACRUZ, IN    19.117      72.85       14.0   \n",
      "2022-12-30  IN012070800  BOMBAY SANTACRUZ, IN    19.117      72.85       14.0   \n",
      "2022-12-31  IN012070800  BOMBAY SANTACRUZ, IN    19.117      72.85       14.0   \n",
      "2023-01-01  IN012070800  BOMBAY SANTACRUZ, IN    19.117      72.85       14.0   \n",
      "\n",
      "            PRCP PRCP_ATTRIBUTES  TAVG TAVG_ATTRIBUTES  TMAX TMAX_ATTRIBUTES  \\\n",
      "DATE                                                                           \n",
      "2000-01-01   0.0            D,,S    78            H,,S  93.0             ,,S   \n",
      "2000-01-02   0.0            D,,S    79            H,,S  92.0             ,,S   \n",
      "2000-01-03   0.0            D,,S    79            H,,S  92.0             ,,S   \n",
      "2000-01-04   0.0            D,,S    79            H,,S  91.0             ,,S   \n",
      "2000-01-05   0.0            D,,S    79            H,,S  91.0             ,,S   \n",
      "...          ...             ...   ...             ...   ...             ...   \n",
      "2022-12-28   NaN             NaN    79            H,,S   NaN             NaN   \n",
      "2022-12-29   NaN             NaN    81            H,,S   NaN             NaN   \n",
      "2022-12-30   NaN             NaN    80            H,,S   NaN             NaN   \n",
      "2022-12-31   NaN             NaN    78            H,,S   NaN             NaN   \n",
      "2023-01-01   NaN             NaN    75            H,,S   NaN             NaN   \n",
      "\n",
      "            TMIN TMIN_ATTRIBUTES  \n",
      "DATE                              \n",
      "2000-01-01   NaN             NaN  \n",
      "2000-01-02  65.0             ,,S  \n",
      "2000-01-03   NaN             NaN  \n",
      "2000-01-04  63.0             ,,S  \n",
      "2000-01-05  64.0             ,,S  \n",
      "...          ...             ...  \n",
      "2022-12-28  63.0             ,,S  \n",
      "2022-12-29  65.0             ,,S  \n",
      "2022-12-30  65.0             ,,S  \n",
      "2022-12-31  64.0             ,,S  \n",
      "2023-01-01  60.0             ,,S  \n",
      "\n",
      "[8399 rows x 13 columns]\n"
     ]
    }
   ],
   "source": [
    "print(data)"
   ]
  },
  {
   "cell_type": "code",
   "execution_count": null,
   "id": "274f8809",
   "metadata": {},
   "outputs": [
    {
     "data": {
      "text/html": [
       "<div>\n",
       "<style scoped>\n",
       "    .dataframe tbody tr th:only-of-type {\n",
       "        vertical-align: middle;\n",
       "    }\n",
       "\n",
       "    .dataframe tbody tr th {\n",
       "        vertical-align: top;\n",
       "    }\n",
       "\n",
       "    .dataframe thead th {\n",
       "        text-align: right;\n",
       "    }\n",
       "</style>\n",
       "<table border=\"1\" class=\"dataframe\">\n",
       "  <thead>\n",
       "    <tr style=\"text-align: right;\">\n",
       "      <th></th>\n",
       "      <th>STATION</th>\n",
       "      <th>NAME</th>\n",
       "      <th>LATITUDE</th>\n",
       "      <th>LONGITUDE</th>\n",
       "      <th>ELEVATION</th>\n",
       "      <th>PRCP</th>\n",
       "      <th>PRCP_ATTRIBUTES</th>\n",
       "      <th>TAVG</th>\n",
       "      <th>TAVG_ATTRIBUTES</th>\n",
       "      <th>TMAX</th>\n",
       "      <th>TMAX_ATTRIBUTES</th>\n",
       "      <th>TMIN</th>\n",
       "      <th>TMIN_ATTRIBUTES</th>\n",
       "    </tr>\n",
       "    <tr>\n",
       "      <th>DATE</th>\n",
       "      <th></th>\n",
       "      <th></th>\n",
       "      <th></th>\n",
       "      <th></th>\n",
       "      <th></th>\n",
       "      <th></th>\n",
       "      <th></th>\n",
       "      <th></th>\n",
       "      <th></th>\n",
       "      <th></th>\n",
       "      <th></th>\n",
       "      <th></th>\n",
       "      <th></th>\n",
       "    </tr>\n",
       "  </thead>\n",
       "  <tbody>\n",
       "    <tr>\n",
       "      <th>2000-01-01</th>\n",
       "      <td>IN012070800</td>\n",
       "      <td>BOMBAY SANTACRUZ, IN</td>\n",
       "      <td>19.117</td>\n",
       "      <td>72.85</td>\n",
       "      <td>14.0</td>\n",
       "      <td>0.0</td>\n",
       "      <td>D,,S</td>\n",
       "      <td>78</td>\n",
       "      <td>H,,S</td>\n",
       "      <td>93.0</td>\n",
       "      <td>,,S</td>\n",
       "      <td>NaN</td>\n",
       "      <td>NaN</td>\n",
       "    </tr>\n",
       "    <tr>\n",
       "      <th>2000-01-02</th>\n",
       "      <td>IN012070800</td>\n",
       "      <td>BOMBAY SANTACRUZ, IN</td>\n",
       "      <td>19.117</td>\n",
       "      <td>72.85</td>\n",
       "      <td>14.0</td>\n",
       "      <td>0.0</td>\n",
       "      <td>D,,S</td>\n",
       "      <td>79</td>\n",
       "      <td>H,,S</td>\n",
       "      <td>92.0</td>\n",
       "      <td>,,S</td>\n",
       "      <td>65.0</td>\n",
       "      <td>,,S</td>\n",
       "    </tr>\n",
       "    <tr>\n",
       "      <th>2000-01-03</th>\n",
       "      <td>IN012070800</td>\n",
       "      <td>BOMBAY SANTACRUZ, IN</td>\n",
       "      <td>19.117</td>\n",
       "      <td>72.85</td>\n",
       "      <td>14.0</td>\n",
       "      <td>0.0</td>\n",
       "      <td>D,,S</td>\n",
       "      <td>79</td>\n",
       "      <td>H,,S</td>\n",
       "      <td>92.0</td>\n",
       "      <td>,,S</td>\n",
       "      <td>NaN</td>\n",
       "      <td>NaN</td>\n",
       "    </tr>\n",
       "    <tr>\n",
       "      <th>2000-01-04</th>\n",
       "      <td>IN012070800</td>\n",
       "      <td>BOMBAY SANTACRUZ, IN</td>\n",
       "      <td>19.117</td>\n",
       "      <td>72.85</td>\n",
       "      <td>14.0</td>\n",
       "      <td>0.0</td>\n",
       "      <td>D,,S</td>\n",
       "      <td>79</td>\n",
       "      <td>H,,S</td>\n",
       "      <td>91.0</td>\n",
       "      <td>,,S</td>\n",
       "      <td>63.0</td>\n",
       "      <td>,,S</td>\n",
       "    </tr>\n",
       "    <tr>\n",
       "      <th>2000-01-05</th>\n",
       "      <td>IN012070800</td>\n",
       "      <td>BOMBAY SANTACRUZ, IN</td>\n",
       "      <td>19.117</td>\n",
       "      <td>72.85</td>\n",
       "      <td>14.0</td>\n",
       "      <td>0.0</td>\n",
       "      <td>D,,S</td>\n",
       "      <td>79</td>\n",
       "      <td>H,,S</td>\n",
       "      <td>91.0</td>\n",
       "      <td>,,S</td>\n",
       "      <td>64.0</td>\n",
       "      <td>,,S</td>\n",
       "    </tr>\n",
       "  </tbody>\n",
       "</table>\n",
       "</div>"
      ],
      "text/plain": [
       "                STATION                  NAME  LATITUDE  LONGITUDE  ELEVATION  \\\n",
       "DATE                                                                            \n",
       "2000-01-01  IN012070800  BOMBAY SANTACRUZ, IN    19.117      72.85       14.0   \n",
       "2000-01-02  IN012070800  BOMBAY SANTACRUZ, IN    19.117      72.85       14.0   \n",
       "2000-01-03  IN012070800  BOMBAY SANTACRUZ, IN    19.117      72.85       14.0   \n",
       "2000-01-04  IN012070800  BOMBAY SANTACRUZ, IN    19.117      72.85       14.0   \n",
       "2000-01-05  IN012070800  BOMBAY SANTACRUZ, IN    19.117      72.85       14.0   \n",
       "\n",
       "            PRCP PRCP_ATTRIBUTES  TAVG TAVG_ATTRIBUTES  TMAX TMAX_ATTRIBUTES  \\\n",
       "DATE                                                                           \n",
       "2000-01-01   0.0            D,,S    78            H,,S  93.0             ,,S   \n",
       "2000-01-02   0.0            D,,S    79            H,,S  92.0             ,,S   \n",
       "2000-01-03   0.0            D,,S    79            H,,S  92.0             ,,S   \n",
       "2000-01-04   0.0            D,,S    79            H,,S  91.0             ,,S   \n",
       "2000-01-05   0.0            D,,S    79            H,,S  91.0             ,,S   \n",
       "\n",
       "            TMIN TMIN_ATTRIBUTES  \n",
       "DATE                              \n",
       "2000-01-01   NaN             NaN  \n",
       "2000-01-02  65.0             ,,S  \n",
       "2000-01-03   NaN             NaN  \n",
       "2000-01-04  63.0             ,,S  \n",
       "2000-01-05  64.0             ,,S  "
      ]
     },
     "execution_count": 4,
     "metadata": {},
     "output_type": "execute_result"
    }
   ],
   "source": [
    "data.head(5)"
   ]
  },
  {
   "cell_type": "code",
   "execution_count": null,
   "id": "04fc89ac",
   "metadata": {},
   "outputs": [
    {
     "data": {
      "text/html": [
       "<div>\n",
       "<style scoped>\n",
       "    .dataframe tbody tr th:only-of-type {\n",
       "        vertical-align: middle;\n",
       "    }\n",
       "\n",
       "    .dataframe tbody tr th {\n",
       "        vertical-align: top;\n",
       "    }\n",
       "\n",
       "    .dataframe thead th {\n",
       "        text-align: right;\n",
       "    }\n",
       "</style>\n",
       "<table border=\"1\" class=\"dataframe\">\n",
       "  <thead>\n",
       "    <tr style=\"text-align: right;\">\n",
       "      <th></th>\n",
       "      <th>STATION</th>\n",
       "      <th>NAME</th>\n",
       "      <th>LATITUDE</th>\n",
       "      <th>LONGITUDE</th>\n",
       "      <th>ELEVATION</th>\n",
       "      <th>PRCP</th>\n",
       "      <th>PRCP_ATTRIBUTES</th>\n",
       "      <th>TAVG</th>\n",
       "      <th>TAVG_ATTRIBUTES</th>\n",
       "      <th>TMAX</th>\n",
       "      <th>TMAX_ATTRIBUTES</th>\n",
       "      <th>TMIN</th>\n",
       "      <th>TMIN_ATTRIBUTES</th>\n",
       "    </tr>\n",
       "    <tr>\n",
       "      <th>DATE</th>\n",
       "      <th></th>\n",
       "      <th></th>\n",
       "      <th></th>\n",
       "      <th></th>\n",
       "      <th></th>\n",
       "      <th></th>\n",
       "      <th></th>\n",
       "      <th></th>\n",
       "      <th></th>\n",
       "      <th></th>\n",
       "      <th></th>\n",
       "      <th></th>\n",
       "      <th></th>\n",
       "    </tr>\n",
       "  </thead>\n",
       "  <tbody>\n",
       "    <tr>\n",
       "      <th>2022-12-28</th>\n",
       "      <td>IN012070800</td>\n",
       "      <td>BOMBAY SANTACRUZ, IN</td>\n",
       "      <td>19.117</td>\n",
       "      <td>72.85</td>\n",
       "      <td>14.0</td>\n",
       "      <td>NaN</td>\n",
       "      <td>NaN</td>\n",
       "      <td>79</td>\n",
       "      <td>H,,S</td>\n",
       "      <td>NaN</td>\n",
       "      <td>NaN</td>\n",
       "      <td>63.0</td>\n",
       "      <td>,,S</td>\n",
       "    </tr>\n",
       "    <tr>\n",
       "      <th>2022-12-29</th>\n",
       "      <td>IN012070800</td>\n",
       "      <td>BOMBAY SANTACRUZ, IN</td>\n",
       "      <td>19.117</td>\n",
       "      <td>72.85</td>\n",
       "      <td>14.0</td>\n",
       "      <td>NaN</td>\n",
       "      <td>NaN</td>\n",
       "      <td>81</td>\n",
       "      <td>H,,S</td>\n",
       "      <td>NaN</td>\n",
       "      <td>NaN</td>\n",
       "      <td>65.0</td>\n",
       "      <td>,,S</td>\n",
       "    </tr>\n",
       "    <tr>\n",
       "      <th>2022-12-30</th>\n",
       "      <td>IN012070800</td>\n",
       "      <td>BOMBAY SANTACRUZ, IN</td>\n",
       "      <td>19.117</td>\n",
       "      <td>72.85</td>\n",
       "      <td>14.0</td>\n",
       "      <td>NaN</td>\n",
       "      <td>NaN</td>\n",
       "      <td>80</td>\n",
       "      <td>H,,S</td>\n",
       "      <td>NaN</td>\n",
       "      <td>NaN</td>\n",
       "      <td>65.0</td>\n",
       "      <td>,,S</td>\n",
       "    </tr>\n",
       "    <tr>\n",
       "      <th>2022-12-31</th>\n",
       "      <td>IN012070800</td>\n",
       "      <td>BOMBAY SANTACRUZ, IN</td>\n",
       "      <td>19.117</td>\n",
       "      <td>72.85</td>\n",
       "      <td>14.0</td>\n",
       "      <td>NaN</td>\n",
       "      <td>NaN</td>\n",
       "      <td>78</td>\n",
       "      <td>H,,S</td>\n",
       "      <td>NaN</td>\n",
       "      <td>NaN</td>\n",
       "      <td>64.0</td>\n",
       "      <td>,,S</td>\n",
       "    </tr>\n",
       "    <tr>\n",
       "      <th>2023-01-01</th>\n",
       "      <td>IN012070800</td>\n",
       "      <td>BOMBAY SANTACRUZ, IN</td>\n",
       "      <td>19.117</td>\n",
       "      <td>72.85</td>\n",
       "      <td>14.0</td>\n",
       "      <td>NaN</td>\n",
       "      <td>NaN</td>\n",
       "      <td>75</td>\n",
       "      <td>H,,S</td>\n",
       "      <td>NaN</td>\n",
       "      <td>NaN</td>\n",
       "      <td>60.0</td>\n",
       "      <td>,,S</td>\n",
       "    </tr>\n",
       "  </tbody>\n",
       "</table>\n",
       "</div>"
      ],
      "text/plain": [
       "                STATION                  NAME  LATITUDE  LONGITUDE  ELEVATION  \\\n",
       "DATE                                                                            \n",
       "2022-12-28  IN012070800  BOMBAY SANTACRUZ, IN    19.117      72.85       14.0   \n",
       "2022-12-29  IN012070800  BOMBAY SANTACRUZ, IN    19.117      72.85       14.0   \n",
       "2022-12-30  IN012070800  BOMBAY SANTACRUZ, IN    19.117      72.85       14.0   \n",
       "2022-12-31  IN012070800  BOMBAY SANTACRUZ, IN    19.117      72.85       14.0   \n",
       "2023-01-01  IN012070800  BOMBAY SANTACRUZ, IN    19.117      72.85       14.0   \n",
       "\n",
       "            PRCP PRCP_ATTRIBUTES  TAVG TAVG_ATTRIBUTES  TMAX TMAX_ATTRIBUTES  \\\n",
       "DATE                                                                           \n",
       "2022-12-28   NaN             NaN    79            H,,S   NaN             NaN   \n",
       "2022-12-29   NaN             NaN    81            H,,S   NaN             NaN   \n",
       "2022-12-30   NaN             NaN    80            H,,S   NaN             NaN   \n",
       "2022-12-31   NaN             NaN    78            H,,S   NaN             NaN   \n",
       "2023-01-01   NaN             NaN    75            H,,S   NaN             NaN   \n",
       "\n",
       "            TMIN TMIN_ATTRIBUTES  \n",
       "DATE                              \n",
       "2022-12-28  63.0             ,,S  \n",
       "2022-12-29  65.0             ,,S  \n",
       "2022-12-30  65.0             ,,S  \n",
       "2022-12-31  64.0             ,,S  \n",
       "2023-01-01  60.0             ,,S  "
      ]
     },
     "execution_count": 5,
     "metadata": {},
     "output_type": "execute_result"
    }
   ],
   "source": [
    "data.tail(5)"
   ]
  },
  {
   "cell_type": "markdown",
   "id": "66dc98df",
   "metadata": {},
   "source": [
    "# Correlation graph"
   ]
  },
  {
   "cell_type": "code",
   "execution_count": 6,
   "id": "a679c553",
   "metadata": {},
   "outputs": [
    {
     "data": {
      "text/plain": [
       "<AxesSubplot:>"
      ]
     },
     "execution_count": 6,
     "metadata": {},
     "output_type": "execute_result"
    },
    {
     "data": {
      "image/png": "[encoded data removed]",
      "text/plain": [
       "<Figure size 936x432 with 3 Axes>"
      ]
     },
     "metadata": {
      "needs_background": "light"
     },
     "output_type": "display_data"
    }
   ],
   "source": [
    "msno.bar(data ,  figsize=(13, 6), fontsize=14 )"
   ]
  },
  {
   "cell_type": "code",
   "execution_count": 7,
   "id": "3b2f5c27",
   "metadata": {},
   "outputs": [
    {
     "data": {
      "text/plain": [
       "<AxesSubplot:>"
      ]
     },
     "execution_count": 7,
     "metadata": {},
     "output_type": "execute_result"
    },
    {
     "data": {
      "image/png": "[encoded data removed]",
      "text/plain": [
       "<Figure size 720x432 with 2 Axes>"
      ]
     },
     "metadata": {
      "needs_background": "light"
     },
     "output_type": "display_data"
    }
   ],
   "source": [
    "msno.heatmap(data,figsize= (10, 6))"
   ]
  },
  {
   "cell_type": "code",
   "execution_count": 8,
   "id": "32d0654d",
   "metadata": {},
   "outputs": [
    {
     "data": {
      "text/plain": [
       "STATION               0\n",
       "NAME                  0\n",
       "LATITUDE              0\n",
       "LONGITUDE             0\n",
       "ELEVATION             0\n",
       "PRCP               4875\n",
       "PRCP_ATTRIBUTES    4875\n",
       "TAVG                  0\n",
       "TAVG_ATTRIBUTES       0\n",
       "TMAX               3587\n",
       "TMAX_ATTRIBUTES    3587\n",
       "TMIN               1953\n",
       "TMIN_ATTRIBUTES    1953\n",
       "dtype: int64"
      ]
     },
     "execution_count": 8,
     "metadata": {},
     "output_type": "execute_result"
    }
   ],
   "source": [
    "data.isnull().sum()"
   ]
  },
  {
   "cell_type": "code",
   "execution_count": 9,
   "id": "f92b460d",
   "metadata": {},
   "outputs": [
    {
     "data": {
      "text/html": [
       "<div>\n",
       "<style scoped>\n",
       "    .dataframe tbody tr th:only-of-type {\n",
       "        vertical-align: middle;\n",
       "    }\n",
       "\n",
       "    .dataframe tbody tr th {\n",
       "        vertical-align: top;\n",
       "    }\n",
       "\n",
       "    .dataframe thead th {\n",
       "        text-align: right;\n",
       "    }\n",
       "</style>\n",
       "<table border=\"1\" class=\"dataframe\">\n",
       "  <thead>\n",
       "    <tr style=\"text-align: right;\">\n",
       "      <th></th>\n",
       "      <th>LATITUDE</th>\n",
       "      <th>LONGITUDE</th>\n",
       "      <th>ELEVATION</th>\n",
       "      <th>PRCP</th>\n",
       "      <th>TAVG</th>\n",
       "      <th>TMAX</th>\n",
       "      <th>TMIN</th>\n",
       "    </tr>\n",
       "  </thead>\n",
       "  <tbody>\n",
       "    <tr>\n",
       "      <th>count</th>\n",
       "      <td>8.399000e+03</td>\n",
       "      <td>8.399000e+03</td>\n",
       "      <td>8399.0</td>\n",
       "      <td>3524.000000</td>\n",
       "      <td>8399.000000</td>\n",
       "      <td>4812.000000</td>\n",
       "      <td>6446.000000</td>\n",
       "    </tr>\n",
       "    <tr>\n",
       "      <th>mean</th>\n",
       "      <td>1.911700e+01</td>\n",
       "      <td>7.285000e+01</td>\n",
       "      <td>14.0</td>\n",
       "      <td>0.651805</td>\n",
       "      <td>82.333254</td>\n",
       "      <td>90.565669</td>\n",
       "      <td>72.583307</td>\n",
       "    </tr>\n",
       "    <tr>\n",
       "      <th>std</th>\n",
       "      <td>1.446041e-12</td>\n",
       "      <td>1.153990e-11</td>\n",
       "      <td>0.0</td>\n",
       "      <td>1.423741</td>\n",
       "      <td>3.794310</td>\n",
       "      <td>4.007638</td>\n",
       "      <td>6.763554</td>\n",
       "    </tr>\n",
       "    <tr>\n",
       "      <th>min</th>\n",
       "      <td>1.911700e+01</td>\n",
       "      <td>7.285000e+01</td>\n",
       "      <td>14.0</td>\n",
       "      <td>0.000000</td>\n",
       "      <td>64.000000</td>\n",
       "      <td>72.000000</td>\n",
       "      <td>47.000000</td>\n",
       "    </tr>\n",
       "    <tr>\n",
       "      <th>25%</th>\n",
       "      <td>1.911700e+01</td>\n",
       "      <td>7.285000e+01</td>\n",
       "      <td>14.0</td>\n",
       "      <td>0.000000</td>\n",
       "      <td>80.000000</td>\n",
       "      <td>88.000000</td>\n",
       "      <td>68.000000</td>\n",
       "    </tr>\n",
       "    <tr>\n",
       "      <th>50%</th>\n",
       "      <td>1.911700e+01</td>\n",
       "      <td>7.285000e+01</td>\n",
       "      <td>14.0</td>\n",
       "      <td>0.080000</td>\n",
       "      <td>83.000000</td>\n",
       "      <td>91.000000</td>\n",
       "      <td>74.000000</td>\n",
       "    </tr>\n",
       "    <tr>\n",
       "      <th>75%</th>\n",
       "      <td>1.911700e+01</td>\n",
       "      <td>7.285000e+01</td>\n",
       "      <td>14.0</td>\n",
       "      <td>0.590000</td>\n",
       "      <td>85.000000</td>\n",
       "      <td>93.000000</td>\n",
       "      <td>78.000000</td>\n",
       "    </tr>\n",
       "    <tr>\n",
       "      <th>max</th>\n",
       "      <td>1.911700e+01</td>\n",
       "      <td>7.285000e+01</td>\n",
       "      <td>14.0</td>\n",
       "      <td>18.150000</td>\n",
       "      <td>93.000000</td>\n",
       "      <td>106.000000</td>\n",
       "      <td>85.000000</td>\n",
       "    </tr>\n",
       "  </tbody>\n",
       "</table>\n",
       "</div>"
      ],
      "text/plain": [
       "           LATITUDE     LONGITUDE  ELEVATION         PRCP         TAVG  \\\n",
       "count  8.399000e+03  8.399000e+03     8399.0  3524.000000  8399.000000   \n",
       "mean   1.911700e+01  7.285000e+01       14.0     0.651805    82.333254   \n",
       "std    1.446041e-12  1.153990e-11        0.0     1.423741     3.794310   \n",
       "min    1.911700e+01  7.285000e+01       14.0     0.000000    64.000000   \n",
       "25%    1.911700e+01  7.285000e+01       14.0     0.000000    80.000000   \n",
       "50%    1.911700e+01  7.285000e+01       14.0     0.080000    83.000000   \n",
       "75%    1.911700e+01  7.285000e+01       14.0     0.590000    85.000000   \n",
       "max    1.911700e+01  7.285000e+01       14.0    18.150000    93.000000   \n",
       "\n",
       "              TMAX         TMIN  \n",
       "count  4812.000000  6446.000000  \n",
       "mean     90.565669    72.583307  \n",
       "std       4.007638     6.763554  \n",
       "min      72.000000    47.000000  \n",
       "25%      88.000000    68.000000  \n",
       "50%      91.000000    74.000000  \n",
       "75%      93.000000    78.000000  \n",
       "max     106.000000    85.000000  "
      ]
     },
     "execution_count": 9,
     "metadata": {},
     "output_type": "execute_result"
    }
   ],
   "source": [
    "data.describe()"
   ]
  },
  {
   "cell_type": "code",
   "execution_count": 10,
   "id": "4fed5a68",
   "metadata": {},
   "outputs": [
    {
     "name": "stdout",
     "output_type": "stream",
     "text": [
      "<class 'pandas.core.frame.DataFrame'>\n",
      "Index: 8399 entries, 2000-01-01 to 2023-01-01\n",
      "Data columns (total 13 columns):\n",
      " #   Column           Non-Null Count  Dtype  \n",
      "---  ------           --------------  -----  \n",
      " 0   STATION          8399 non-null   object \n",
      " 1   NAME             8399 non-null   object \n",
      " 2   LATITUDE         8399 non-null   float64\n",
      " 3   LONGITUDE        8399 non-null   float64\n",
      " 4   ELEVATION        8399 non-null   float64\n",
      " 5   PRCP             3524 non-null   float64\n",
      " 6   PRCP_ATTRIBUTES  3524 non-null   object \n",
      " 7   TAVG             8399 non-null   int64  \n",
      " 8   TAVG_ATTRIBUTES  8399 non-null   object \n",
      " 9   TMAX             4812 non-null   float64\n",
      " 10  TMAX_ATTRIBUTES  4812 non-null   object \n",
      " 11  TMIN             6446 non-null   float64\n",
      " 12  TMIN_ATTRIBUTES  6446 non-null   object \n",
      "dtypes: float64(6), int64(1), object(6)\n",
      "memory usage: 918.6+ KB\n"
     ]
    }
   ],
   "source": [
    "data.info()"
   ]
  },
  {
   "cell_type": "code",
   "execution_count": 11,
   "id": "f16285f5",
   "metadata": {},
   "outputs": [
    {
     "data": {
      "text/plain": [
       "<AxesSubplot:xlabel='DATE'>"
      ]
     },
     "execution_count": 11,
     "metadata": {},
     "output_type": "execute_result"
    },
    {
     "data": {
      "image/png": "[encoded data removed]",
      "text/plain": [
       "<Figure size 432x288 with 1 Axes>"
      ]
     },
     "metadata": {
      "needs_background": "light"
     },
     "output_type": "display_data"
    }
   ],
   "source": [
    "data.plot()"
   ]
  },
  {
   "cell_type": "code",
   "execution_count": 12,
   "id": "fd637c1f",
   "metadata": {},
   "outputs": [
    {
     "data": {
      "text/plain": [
       "STATION            0.000000\n",
       "NAME               0.000000\n",
       "LATITUDE           0.000000\n",
       "LONGITUDE          0.000000\n",
       "ELEVATION          0.000000\n",
       "PRCP               0.580426\n",
       "PRCP_ATTRIBUTES    0.580426\n",
       "TAVG               0.000000\n",
       "TAVG_ATTRIBUTES    0.000000\n",
       "TMAX               0.427075\n",
       "TMAX_ATTRIBUTES    0.427075\n",
       "TMIN               0.232528\n",
       "TMIN_ATTRIBUTES    0.232528\n",
       "dtype: float64"
      ]
     },
     "execution_count": 12,
     "metadata": {},
     "output_type": "execute_result"
    }
   ],
   "source": [
    "# PRCP               4875\n",
    "# PRCP_ATTRIBUTES    4875\n",
    "# TMAX               3587\n",
    "# TMAX_ATTRIBUTES    3587\n",
    "# TMIN               1953\n",
    "# TMIN_ATTRIBUTES    1953\n",
    "# hAVE null Values\n",
    "\n",
    "# percentage value of the null values \n",
    "data.apply(pd.isnull).sum()/data.shape[0]\n",
    "# data.apply(pd.isnull).sum()\n",
    "\n"
   ]
  },
  {
   "cell_type": "markdown",
   "id": "5bf7bf3a",
   "metadata": {},
   "source": [
    "# Preparing data for machine learning model "
   ]
  },
  {
   "cell_type": "code",
   "execution_count": 13,
   "id": "688a1ebf",
   "metadata": {},
   "outputs": [],
   "source": [
    "core_attributes = data[[\"PRCP\" , \"TAVG\", \"TMAX\", \"TMIN\"]].copy()"
   ]
  },
  {
   "cell_type": "code",
   "execution_count": 14,
   "id": "70a9d400",
   "metadata": {},
   "outputs": [
    {
     "data": {
      "text/html": [
       "<div>\n",
       "<style scoped>\n",
       "    .dataframe tbody tr th:only-of-type {\n",
       "        vertical-align: middle;\n",
       "    }\n",
       "\n",
       "    .dataframe tbody tr th {\n",
       "        vertical-align: top;\n",
       "    }\n",
       "\n",
       "    .dataframe thead th {\n",
       "        text-align: right;\n",
       "    }\n",
       "</style>\n",
       "<table border=\"1\" class=\"dataframe\">\n",
       "  <thead>\n",
       "    <tr style=\"text-align: right;\">\n",
       "      <th></th>\n",
       "      <th>PRCP</th>\n",
       "      <th>TAVG</th>\n",
       "      <th>TMAX</th>\n",
       "      <th>TMIN</th>\n",
       "    </tr>\n",
       "    <tr>\n",
       "      <th>DATE</th>\n",
       "      <th></th>\n",
       "      <th></th>\n",
       "      <th></th>\n",
       "      <th></th>\n",
       "    </tr>\n",
       "  </thead>\n",
       "  <tbody>\n",
       "    <tr>\n",
       "      <th>2000-01-01</th>\n",
       "      <td>0.0</td>\n",
       "      <td>78</td>\n",
       "      <td>93.0</td>\n",
       "      <td>NaN</td>\n",
       "    </tr>\n",
       "    <tr>\n",
       "      <th>2000-01-02</th>\n",
       "      <td>0.0</td>\n",
       "      <td>79</td>\n",
       "      <td>92.0</td>\n",
       "      <td>65.0</td>\n",
       "    </tr>\n",
       "    <tr>\n",
       "      <th>2000-01-03</th>\n",
       "      <td>0.0</td>\n",
       "      <td>79</td>\n",
       "      <td>92.0</td>\n",
       "      <td>NaN</td>\n",
       "    </tr>\n",
       "    <tr>\n",
       "      <th>2000-01-04</th>\n",
       "      <td>0.0</td>\n",
       "      <td>79</td>\n",
       "      <td>91.0</td>\n",
       "      <td>63.0</td>\n",
       "    </tr>\n",
       "    <tr>\n",
       "      <th>2000-01-05</th>\n",
       "      <td>0.0</td>\n",
       "      <td>79</td>\n",
       "      <td>91.0</td>\n",
       "      <td>64.0</td>\n",
       "    </tr>\n",
       "    <tr>\n",
       "      <th>...</th>\n",
       "      <td>...</td>\n",
       "      <td>...</td>\n",
       "      <td>...</td>\n",
       "      <td>...</td>\n",
       "    </tr>\n",
       "    <tr>\n",
       "      <th>2022-12-28</th>\n",
       "      <td>NaN</td>\n",
       "      <td>79</td>\n",
       "      <td>NaN</td>\n",
       "      <td>63.0</td>\n",
       "    </tr>\n",
       "    <tr>\n",
       "      <th>2022-12-29</th>\n",
       "      <td>NaN</td>\n",
       "      <td>81</td>\n",
       "      <td>NaN</td>\n",
       "      <td>65.0</td>\n",
       "    </tr>\n",
       "    <tr>\n",
       "      <th>2022-12-30</th>\n",
       "      <td>NaN</td>\n",
       "      <td>80</td>\n",
       "      <td>NaN</td>\n",
       "      <td>65.0</td>\n",
       "    </tr>\n",
       "    <tr>\n",
       "      <th>2022-12-31</th>\n",
       "      <td>NaN</td>\n",
       "      <td>78</td>\n",
       "      <td>NaN</td>\n",
       "      <td>64.0</td>\n",
       "    </tr>\n",
       "    <tr>\n",
       "      <th>2023-01-01</th>\n",
       "      <td>NaN</td>\n",
       "      <td>75</td>\n",
       "      <td>NaN</td>\n",
       "      <td>60.0</td>\n",
       "    </tr>\n",
       "  </tbody>\n",
       "</table>\n",
       "<p>8399 rows × 4 columns</p>\n",
       "</div>"
      ],
      "text/plain": [
       "            PRCP  TAVG  TMAX  TMIN\n",
       "DATE                              \n",
       "2000-01-01   0.0    78  93.0   NaN\n",
       "2000-01-02   0.0    79  92.0  65.0\n",
       "2000-01-03   0.0    79  92.0   NaN\n",
       "2000-01-04   0.0    79  91.0  63.0\n",
       "2000-01-05   0.0    79  91.0  64.0\n",
       "...          ...   ...   ...   ...\n",
       "2022-12-28   NaN    79   NaN  63.0\n",
       "2022-12-29   NaN    81   NaN  65.0\n",
       "2022-12-30   NaN    80   NaN  65.0\n",
       "2022-12-31   NaN    78   NaN  64.0\n",
       "2023-01-01   NaN    75   NaN  60.0\n",
       "\n",
       "[8399 rows x 4 columns]"
      ]
     },
     "execution_count": 14,
     "metadata": {},
     "output_type": "execute_result"
    }
   ],
   "source": [
    "core_attributes"
   ]
  },
  {
   "cell_type": "code",
   "execution_count": 15,
   "id": "9d99ce8c",
   "metadata": {},
   "outputs": [
    {
     "data": {
      "text/html": [
       "<div>\n",
       "<style scoped>\n",
       "    .dataframe tbody tr th:only-of-type {\n",
       "        vertical-align: middle;\n",
       "    }\n",
       "\n",
       "    .dataframe tbody tr th {\n",
       "        vertical-align: top;\n",
       "    }\n",
       "\n",
       "    .dataframe thead th {\n",
       "        text-align: right;\n",
       "    }\n",
       "</style>\n",
       "<table border=\"1\" class=\"dataframe\">\n",
       "  <thead>\n",
       "    <tr style=\"text-align: right;\">\n",
       "      <th></th>\n",
       "      <th>PRCP</th>\n",
       "      <th>TAVG</th>\n",
       "      <th>TMAX</th>\n",
       "      <th>TMIN</th>\n",
       "    </tr>\n",
       "    <tr>\n",
       "      <th>DATE</th>\n",
       "      <th></th>\n",
       "      <th></th>\n",
       "      <th></th>\n",
       "      <th></th>\n",
       "    </tr>\n",
       "  </thead>\n",
       "  <tbody>\n",
       "    <tr>\n",
       "      <th>2022-12-28</th>\n",
       "      <td>NaN</td>\n",
       "      <td>79</td>\n",
       "      <td>NaN</td>\n",
       "      <td>63.0</td>\n",
       "    </tr>\n",
       "    <tr>\n",
       "      <th>2022-12-29</th>\n",
       "      <td>NaN</td>\n",
       "      <td>81</td>\n",
       "      <td>NaN</td>\n",
       "      <td>65.0</td>\n",
       "    </tr>\n",
       "    <tr>\n",
       "      <th>2022-12-30</th>\n",
       "      <td>NaN</td>\n",
       "      <td>80</td>\n",
       "      <td>NaN</td>\n",
       "      <td>65.0</td>\n",
       "    </tr>\n",
       "    <tr>\n",
       "      <th>2022-12-31</th>\n",
       "      <td>NaN</td>\n",
       "      <td>78</td>\n",
       "      <td>NaN</td>\n",
       "      <td>64.0</td>\n",
       "    </tr>\n",
       "    <tr>\n",
       "      <th>2023-01-01</th>\n",
       "      <td>NaN</td>\n",
       "      <td>75</td>\n",
       "      <td>NaN</td>\n",
       "      <td>60.0</td>\n",
       "    </tr>\n",
       "  </tbody>\n",
       "</table>\n",
       "</div>"
      ],
      "text/plain": [
       "            PRCP  TAVG  TMAX  TMIN\n",
       "DATE                              \n",
       "2022-12-28   NaN    79   NaN  63.0\n",
       "2022-12-29   NaN    81   NaN  65.0\n",
       "2022-12-30   NaN    80   NaN  65.0\n",
       "2022-12-31   NaN    78   NaN  64.0\n",
       "2023-01-01   NaN    75   NaN  60.0"
      ]
     },
     "execution_count": 15,
     "metadata": {},
     "output_type": "execute_result"
    }
   ],
   "source": [
    "core_attributes.tail(5)"
   ]
  },
  {
   "cell_type": "code",
   "execution_count": 16,
   "id": "0599f03b",
   "metadata": {},
   "outputs": [
    {
     "data": {
      "text/plain": [
       "PRCP    4875\n",
       "TAVG       0\n",
       "TMAX    3587\n",
       "TMIN    1953\n",
       "dtype: int64"
      ]
     },
     "execution_count": 16,
     "metadata": {},
     "output_type": "execute_result"
    }
   ],
   "source": [
    "core_attributes.isnull().sum()"
   ]
  },
  {
   "cell_type": "code",
   "execution_count": 17,
   "id": "4e3f93f1",
   "metadata": {},
   "outputs": [],
   "source": [
    "core_attributes.columns = [\"precip\" , \"temp_avg\",\"temp_max\",\"temp_min\"]"
   ]
  },
  {
   "cell_type": "code",
   "execution_count": 18,
   "id": "e13e5d3c",
   "metadata": {},
   "outputs": [
    {
     "data": {
      "text/html": [
       "<div>\n",
       "<style scoped>\n",
       "    .dataframe tbody tr th:only-of-type {\n",
       "        vertical-align: middle;\n",
       "    }\n",
       "\n",
       "    .dataframe tbody tr th {\n",
       "        vertical-align: top;\n",
       "    }\n",
       "\n",
       "    .dataframe thead th {\n",
       "        text-align: right;\n",
       "    }\n",
       "</style>\n",
       "<table border=\"1\" class=\"dataframe\">\n",
       "  <thead>\n",
       "    <tr style=\"text-align: right;\">\n",
       "      <th></th>\n",
       "      <th>precip</th>\n",
       "      <th>temp_avg</th>\n",
       "      <th>temp_max</th>\n",
       "      <th>temp_min</th>\n",
       "    </tr>\n",
       "    <tr>\n",
       "      <th>DATE</th>\n",
       "      <th></th>\n",
       "      <th></th>\n",
       "      <th></th>\n",
       "      <th></th>\n",
       "    </tr>\n",
       "  </thead>\n",
       "  <tbody>\n",
       "    <tr>\n",
       "      <th>2000-01-01</th>\n",
       "      <td>0.0</td>\n",
       "      <td>78</td>\n",
       "      <td>93.0</td>\n",
       "      <td>NaN</td>\n",
       "    </tr>\n",
       "    <tr>\n",
       "      <th>2000-01-02</th>\n",
       "      <td>0.0</td>\n",
       "      <td>79</td>\n",
       "      <td>92.0</td>\n",
       "      <td>65.0</td>\n",
       "    </tr>\n",
       "    <tr>\n",
       "      <th>2000-01-03</th>\n",
       "      <td>0.0</td>\n",
       "      <td>79</td>\n",
       "      <td>92.0</td>\n",
       "      <td>NaN</td>\n",
       "    </tr>\n",
       "    <tr>\n",
       "      <th>2000-01-04</th>\n",
       "      <td>0.0</td>\n",
       "      <td>79</td>\n",
       "      <td>91.0</td>\n",
       "      <td>63.0</td>\n",
       "    </tr>\n",
       "    <tr>\n",
       "      <th>2000-01-05</th>\n",
       "      <td>0.0</td>\n",
       "      <td>79</td>\n",
       "      <td>91.0</td>\n",
       "      <td>64.0</td>\n",
       "    </tr>\n",
       "    <tr>\n",
       "      <th>...</th>\n",
       "      <td>...</td>\n",
       "      <td>...</td>\n",
       "      <td>...</td>\n",
       "      <td>...</td>\n",
       "    </tr>\n",
       "    <tr>\n",
       "      <th>2022-12-28</th>\n",
       "      <td>NaN</td>\n",
       "      <td>79</td>\n",
       "      <td>NaN</td>\n",
       "      <td>63.0</td>\n",
       "    </tr>\n",
       "    <tr>\n",
       "      <th>2022-12-29</th>\n",
       "      <td>NaN</td>\n",
       "      <td>81</td>\n",
       "      <td>NaN</td>\n",
       "      <td>65.0</td>\n",
       "    </tr>\n",
       "    <tr>\n",
       "      <th>2022-12-30</th>\n",
       "      <td>NaN</td>\n",
       "      <td>80</td>\n",
       "      <td>NaN</td>\n",
       "      <td>65.0</td>\n",
       "    </tr>\n",
       "    <tr>\n",
       "      <th>2022-12-31</th>\n",
       "      <td>NaN</td>\n",
       "      <td>78</td>\n",
       "      <td>NaN</td>\n",
       "      <td>64.0</td>\n",
       "    </tr>\n",
       "    <tr>\n",
       "      <th>2023-01-01</th>\n",
       "      <td>NaN</td>\n",
       "      <td>75</td>\n",
       "      <td>NaN</td>\n",
       "      <td>60.0</td>\n",
       "    </tr>\n",
       "  </tbody>\n",
       "</table>\n",
       "<p>8399 rows × 4 columns</p>\n",
       "</div>"
      ],
      "text/plain": [
       "            precip  temp_avg  temp_max  temp_min\n",
       "DATE                                            \n",
       "2000-01-01     0.0        78      93.0       NaN\n",
       "2000-01-02     0.0        79      92.0      65.0\n",
       "2000-01-03     0.0        79      92.0       NaN\n",
       "2000-01-04     0.0        79      91.0      63.0\n",
       "2000-01-05     0.0        79      91.0      64.0\n",
       "...            ...       ...       ...       ...\n",
       "2022-12-28     NaN        79       NaN      63.0\n",
       "2022-12-29     NaN        81       NaN      65.0\n",
       "2022-12-30     NaN        80       NaN      65.0\n",
       "2022-12-31     NaN        78       NaN      64.0\n",
       "2023-01-01     NaN        75       NaN      60.0\n",
       "\n",
       "[8399 rows x 4 columns]"
      ]
     },
     "execution_count": 18,
     "metadata": {},
     "output_type": "execute_result"
    }
   ],
   "source": [
    "core_attributes"
   ]
  },
  {
   "cell_type": "markdown",
   "id": "be2353c2",
   "metadata": {},
   "source": [
    "# Filling the missing values"
   ]
  },
  {
   "cell_type": "code",
   "execution_count": 19,
   "id": "c647b9a2",
   "metadata": {},
   "outputs": [
    {
     "data": {
      "text/plain": [
       "precip      0.580426\n",
       "temp_avg    0.000000\n",
       "temp_max    0.427075\n",
       "temp_min    0.232528\n",
       "dtype: float64"
      ]
     },
     "execution_count": 19,
     "metadata": {},
     "output_type": "execute_result"
    }
   ],
   "source": [
    "core_attributes.apply(pd.isnull).sum()/core_attributes.shape[0]"
   ]
  },
  {
   "cell_type": "code",
   "execution_count": 20,
   "id": "3eb9675e",
   "metadata": {},
   "outputs": [
    {
     "data": {
      "text/plain": [
       "83    1166\n",
       "82     878\n",
       "85     856\n",
       "84     847\n",
       "81     735\n",
       "80     622\n",
       "86     566\n",
       "87     497\n",
       "78     397\n",
       "79     377\n",
       "88     324\n",
       "77     230\n",
       "76     219\n",
       "89     184\n",
       "75     150\n",
       "74     107\n",
       "73      53\n",
       "72      50\n",
       "71      38\n",
       "90      31\n",
       "70      20\n",
       "91      17\n",
       "69      11\n",
       "92       7\n",
       "67       6\n",
       "68       4\n",
       "66       4\n",
       "64       2\n",
       "93       1\n",
       "Name: temp_avg, dtype: int64"
      ]
     },
     "execution_count": 20,
     "metadata": {},
     "output_type": "execute_result"
    }
   ],
   "source": [
    "core_attributes[\"temp_avg\"].value_counts()"
   ]
  },
  {
   "cell_type": "code",
   "execution_count": 21,
   "id": "1d36fcb0",
   "metadata": {},
   "outputs": [
    {
     "data": {
      "text/html": [
       "<div>\n",
       "<style scoped>\n",
       "    .dataframe tbody tr th:only-of-type {\n",
       "        vertical-align: middle;\n",
       "    }\n",
       "\n",
       "    .dataframe tbody tr th {\n",
       "        vertical-align: top;\n",
       "    }\n",
       "\n",
       "    .dataframe thead th {\n",
       "        text-align: right;\n",
       "    }\n",
       "</style>\n",
       "<table border=\"1\" class=\"dataframe\">\n",
       "  <thead>\n",
       "    <tr style=\"text-align: right;\">\n",
       "      <th></th>\n",
       "      <th>precip</th>\n",
       "      <th>temp_avg</th>\n",
       "      <th>temp_max</th>\n",
       "      <th>temp_min</th>\n",
       "    </tr>\n",
       "    <tr>\n",
       "      <th>DATE</th>\n",
       "      <th></th>\n",
       "      <th></th>\n",
       "      <th></th>\n",
       "      <th></th>\n",
       "    </tr>\n",
       "  </thead>\n",
       "  <tbody>\n",
       "    <tr>\n",
       "      <th>2000-01-14</th>\n",
       "      <td>NaN</td>\n",
       "      <td>76</td>\n",
       "      <td>83.0</td>\n",
       "      <td>NaN</td>\n",
       "    </tr>\n",
       "    <tr>\n",
       "      <th>2000-01-15</th>\n",
       "      <td>NaN</td>\n",
       "      <td>72</td>\n",
       "      <td>84.0</td>\n",
       "      <td>NaN</td>\n",
       "    </tr>\n",
       "    <tr>\n",
       "      <th>2000-01-16</th>\n",
       "      <td>NaN</td>\n",
       "      <td>75</td>\n",
       "      <td>NaN</td>\n",
       "      <td>56.0</td>\n",
       "    </tr>\n",
       "    <tr>\n",
       "      <th>2000-01-17</th>\n",
       "      <td>NaN</td>\n",
       "      <td>83</td>\n",
       "      <td>96.0</td>\n",
       "      <td>67.0</td>\n",
       "    </tr>\n",
       "    <tr>\n",
       "      <th>2000-01-18</th>\n",
       "      <td>NaN</td>\n",
       "      <td>84</td>\n",
       "      <td>NaN</td>\n",
       "      <td>71.0</td>\n",
       "    </tr>\n",
       "    <tr>\n",
       "      <th>...</th>\n",
       "      <td>...</td>\n",
       "      <td>...</td>\n",
       "      <td>...</td>\n",
       "      <td>...</td>\n",
       "    </tr>\n",
       "    <tr>\n",
       "      <th>2022-12-28</th>\n",
       "      <td>NaN</td>\n",
       "      <td>79</td>\n",
       "      <td>NaN</td>\n",
       "      <td>63.0</td>\n",
       "    </tr>\n",
       "    <tr>\n",
       "      <th>2022-12-29</th>\n",
       "      <td>NaN</td>\n",
       "      <td>81</td>\n",
       "      <td>NaN</td>\n",
       "      <td>65.0</td>\n",
       "    </tr>\n",
       "    <tr>\n",
       "      <th>2022-12-30</th>\n",
       "      <td>NaN</td>\n",
       "      <td>80</td>\n",
       "      <td>NaN</td>\n",
       "      <td>65.0</td>\n",
       "    </tr>\n",
       "    <tr>\n",
       "      <th>2022-12-31</th>\n",
       "      <td>NaN</td>\n",
       "      <td>78</td>\n",
       "      <td>NaN</td>\n",
       "      <td>64.0</td>\n",
       "    </tr>\n",
       "    <tr>\n",
       "      <th>2023-01-01</th>\n",
       "      <td>NaN</td>\n",
       "      <td>75</td>\n",
       "      <td>NaN</td>\n",
       "      <td>60.0</td>\n",
       "    </tr>\n",
       "  </tbody>\n",
       "</table>\n",
       "<p>4875 rows × 4 columns</p>\n",
       "</div>"
      ],
      "text/plain": [
       "            precip  temp_avg  temp_max  temp_min\n",
       "DATE                                            \n",
       "2000-01-14     NaN        76      83.0       NaN\n",
       "2000-01-15     NaN        72      84.0       NaN\n",
       "2000-01-16     NaN        75       NaN      56.0\n",
       "2000-01-17     NaN        83      96.0      67.0\n",
       "2000-01-18     NaN        84       NaN      71.0\n",
       "...            ...       ...       ...       ...\n",
       "2022-12-28     NaN        79       NaN      63.0\n",
       "2022-12-29     NaN        81       NaN      65.0\n",
       "2022-12-30     NaN        80       NaN      65.0\n",
       "2022-12-31     NaN        78       NaN      64.0\n",
       "2023-01-01     NaN        75       NaN      60.0\n",
       "\n",
       "[4875 rows x 4 columns]"
      ]
     },
     "execution_count": 21,
     "metadata": {},
     "output_type": "execute_result"
    }
   ],
   "source": [
    "core_attributes[pd.isnull(core_attributes[\"precip\"])]"
   ]
  },
  {
   "cell_type": "code",
   "execution_count": 22,
   "id": "dd09d7ad",
   "metadata": {},
   "outputs": [
    {
     "data": {
      "text/plain": [
       "Series([], dtype: int64)"
      ]
     },
     "execution_count": 22,
     "metadata": {},
     "output_type": "execute_result"
    }
   ],
   "source": [
    "core_attributes[pd.isnull(core_attributes[\"precip\"])].value_counts()"
   ]
  },
  {
   "cell_type": "markdown",
   "id": "890649f3",
   "metadata": {},
   "source": [
    "# Fill the null values that is present in precip attributes"
   ]
  },
  {
   "cell_type": "code",
   "execution_count": 23,
   "id": "5b4bb230",
   "metadata": {},
   "outputs": [
    {
     "data": {
      "text/plain": [
       "0.00     1231\n",
       "0.08      157\n",
       "0.12      144\n",
       "0.04      125\n",
       "0.02      107\n",
       "         ... \n",
       "7.56        1\n",
       "8.66        1\n",
       "7.28        1\n",
       "13.82       1\n",
       "7.64        1\n",
       "Name: precip, Length: 188, dtype: int64"
      ]
     },
     "execution_count": 23,
     "metadata": {},
     "output_type": "execute_result"
    }
   ],
   "source": [
    "core_attributes[\"precip\"].value_counts()\n",
    "\n",
    "# Here 1231 have zero value so we fill the complete precip attribute  with zero "
   ]
  },
  {
   "cell_type": "code",
   "execution_count": 24,
   "id": "51a837c7",
   "metadata": {},
   "outputs": [
    {
     "data": {
      "text/plain": [
       "DATE\n",
       "2000-01-01    0.0\n",
       "2000-01-02    0.0\n",
       "2000-01-03    0.0\n",
       "2000-01-04    0.0\n",
       "2000-01-05    0.0\n",
       "             ... \n",
       "2022-12-28    0.0\n",
       "2022-12-29    0.0\n",
       "2022-12-30    0.0\n",
       "2022-12-31    0.0\n",
       "2023-01-01    0.0\n",
       "Name: precip, Length: 8399, dtype: float64"
      ]
     },
     "execution_count": 24,
     "metadata": {},
     "output_type": "execute_result"
    }
   ],
   "source": [
    "# So we can see large number of days precip value is 0  so we can fill complete precip by 0 \n",
    "core_attributes[\"precip\"].fillna(0)"
   ]
  },
  {
   "cell_type": "code",
   "execution_count": 25,
   "id": "bb9806ab",
   "metadata": {},
   "outputs": [],
   "source": [
    "core_attributes[\"precip\"] = core_attributes[\"precip\"].fillna(0)"
   ]
  },
  {
   "cell_type": "code",
   "execution_count": 26,
   "id": "e02a875e",
   "metadata": {},
   "outputs": [
    {
     "data": {
      "text/html": [
       "<div>\n",
       "<style scoped>\n",
       "    .dataframe tbody tr th:only-of-type {\n",
       "        vertical-align: middle;\n",
       "    }\n",
       "\n",
       "    .dataframe tbody tr th {\n",
       "        vertical-align: top;\n",
       "    }\n",
       "\n",
       "    .dataframe thead th {\n",
       "        text-align: right;\n",
       "    }\n",
       "</style>\n",
       "<table border=\"1\" class=\"dataframe\">\n",
       "  <thead>\n",
       "    <tr style=\"text-align: right;\">\n",
       "      <th></th>\n",
       "      <th>precip</th>\n",
       "      <th>temp_avg</th>\n",
       "      <th>temp_max</th>\n",
       "      <th>temp_min</th>\n",
       "    </tr>\n",
       "    <tr>\n",
       "      <th>DATE</th>\n",
       "      <th></th>\n",
       "      <th></th>\n",
       "      <th></th>\n",
       "      <th></th>\n",
       "    </tr>\n",
       "  </thead>\n",
       "  <tbody>\n",
       "    <tr>\n",
       "      <th>2000-01-01</th>\n",
       "      <td>0.0</td>\n",
       "      <td>78</td>\n",
       "      <td>93.0</td>\n",
       "      <td>NaN</td>\n",
       "    </tr>\n",
       "    <tr>\n",
       "      <th>2000-01-02</th>\n",
       "      <td>0.0</td>\n",
       "      <td>79</td>\n",
       "      <td>92.0</td>\n",
       "      <td>65.0</td>\n",
       "    </tr>\n",
       "    <tr>\n",
       "      <th>2000-01-03</th>\n",
       "      <td>0.0</td>\n",
       "      <td>79</td>\n",
       "      <td>92.0</td>\n",
       "      <td>NaN</td>\n",
       "    </tr>\n",
       "    <tr>\n",
       "      <th>2000-01-04</th>\n",
       "      <td>0.0</td>\n",
       "      <td>79</td>\n",
       "      <td>91.0</td>\n",
       "      <td>63.0</td>\n",
       "    </tr>\n",
       "    <tr>\n",
       "      <th>2000-01-05</th>\n",
       "      <td>0.0</td>\n",
       "      <td>79</td>\n",
       "      <td>91.0</td>\n",
       "      <td>64.0</td>\n",
       "    </tr>\n",
       "    <tr>\n",
       "      <th>...</th>\n",
       "      <td>...</td>\n",
       "      <td>...</td>\n",
       "      <td>...</td>\n",
       "      <td>...</td>\n",
       "    </tr>\n",
       "    <tr>\n",
       "      <th>2022-12-28</th>\n",
       "      <td>0.0</td>\n",
       "      <td>79</td>\n",
       "      <td>NaN</td>\n",
       "      <td>63.0</td>\n",
       "    </tr>\n",
       "    <tr>\n",
       "      <th>2022-12-29</th>\n",
       "      <td>0.0</td>\n",
       "      <td>81</td>\n",
       "      <td>NaN</td>\n",
       "      <td>65.0</td>\n",
       "    </tr>\n",
       "    <tr>\n",
       "      <th>2022-12-30</th>\n",
       "      <td>0.0</td>\n",
       "      <td>80</td>\n",
       "      <td>NaN</td>\n",
       "      <td>65.0</td>\n",
       "    </tr>\n",
       "    <tr>\n",
       "      <th>2022-12-31</th>\n",
       "      <td>0.0</td>\n",
       "      <td>78</td>\n",
       "      <td>NaN</td>\n",
       "      <td>64.0</td>\n",
       "    </tr>\n",
       "    <tr>\n",
       "      <th>2023-01-01</th>\n",
       "      <td>0.0</td>\n",
       "      <td>75</td>\n",
       "      <td>NaN</td>\n",
       "      <td>60.0</td>\n",
       "    </tr>\n",
       "  </tbody>\n",
       "</table>\n",
       "<p>8399 rows × 4 columns</p>\n",
       "</div>"
      ],
      "text/plain": [
       "            precip  temp_avg  temp_max  temp_min\n",
       "DATE                                            \n",
       "2000-01-01     0.0        78      93.0       NaN\n",
       "2000-01-02     0.0        79      92.0      65.0\n",
       "2000-01-03     0.0        79      92.0       NaN\n",
       "2000-01-04     0.0        79      91.0      63.0\n",
       "2000-01-05     0.0        79      91.0      64.0\n",
       "...            ...       ...       ...       ...\n",
       "2022-12-28     0.0        79       NaN      63.0\n",
       "2022-12-29     0.0        81       NaN      65.0\n",
       "2022-12-30     0.0        80       NaN      65.0\n",
       "2022-12-31     0.0        78       NaN      64.0\n",
       "2023-01-01     0.0        75       NaN      60.0\n",
       "\n",
       "[8399 rows x 4 columns]"
      ]
     },
     "execution_count": 26,
     "metadata": {},
     "output_type": "execute_result"
    }
   ],
   "source": [
    "core_attributes"
   ]
  },
  {
   "cell_type": "markdown",
   "id": "412dff6d",
   "metadata": {},
   "source": [
    "# clean the null values from tmax and tmin and tavg"
   ]
  },
  {
   "cell_type": "code",
   "execution_count": 27,
   "id": "b177fc8c",
   "metadata": {},
   "outputs": [
    {
     "data": {
      "text/html": [
       "<div>\n",
       "<style scoped>\n",
       "    .dataframe tbody tr th:only-of-type {\n",
       "        vertical-align: middle;\n",
       "    }\n",
       "\n",
       "    .dataframe tbody tr th {\n",
       "        vertical-align: top;\n",
       "    }\n",
       "\n",
       "    .dataframe thead th {\n",
       "        text-align: right;\n",
       "    }\n",
       "</style>\n",
       "<table border=\"1\" class=\"dataframe\">\n",
       "  <thead>\n",
       "    <tr style=\"text-align: right;\">\n",
       "      <th></th>\n",
       "      <th>precip</th>\n",
       "      <th>temp_avg</th>\n",
       "      <th>temp_max</th>\n",
       "      <th>temp_min</th>\n",
       "    </tr>\n",
       "    <tr>\n",
       "      <th>DATE</th>\n",
       "      <th></th>\n",
       "      <th></th>\n",
       "      <th></th>\n",
       "      <th></th>\n",
       "    </tr>\n",
       "  </thead>\n",
       "  <tbody>\n",
       "    <tr>\n",
       "      <th>2000-01-07</th>\n",
       "      <td>0.0</td>\n",
       "      <td>76</td>\n",
       "      <td>NaN</td>\n",
       "      <td>NaN</td>\n",
       "    </tr>\n",
       "    <tr>\n",
       "      <th>2000-01-10</th>\n",
       "      <td>0.0</td>\n",
       "      <td>78</td>\n",
       "      <td>NaN</td>\n",
       "      <td>60.0</td>\n",
       "    </tr>\n",
       "    <tr>\n",
       "      <th>2000-01-13</th>\n",
       "      <td>0.0</td>\n",
       "      <td>76</td>\n",
       "      <td>NaN</td>\n",
       "      <td>65.0</td>\n",
       "    </tr>\n",
       "    <tr>\n",
       "      <th>2000-01-16</th>\n",
       "      <td>0.0</td>\n",
       "      <td>75</td>\n",
       "      <td>NaN</td>\n",
       "      <td>56.0</td>\n",
       "    </tr>\n",
       "    <tr>\n",
       "      <th>2000-01-18</th>\n",
       "      <td>0.0</td>\n",
       "      <td>84</td>\n",
       "      <td>NaN</td>\n",
       "      <td>71.0</td>\n",
       "    </tr>\n",
       "    <tr>\n",
       "      <th>...</th>\n",
       "      <td>...</td>\n",
       "      <td>...</td>\n",
       "      <td>...</td>\n",
       "      <td>...</td>\n",
       "    </tr>\n",
       "    <tr>\n",
       "      <th>2022-12-28</th>\n",
       "      <td>0.0</td>\n",
       "      <td>79</td>\n",
       "      <td>NaN</td>\n",
       "      <td>63.0</td>\n",
       "    </tr>\n",
       "    <tr>\n",
       "      <th>2022-12-29</th>\n",
       "      <td>0.0</td>\n",
       "      <td>81</td>\n",
       "      <td>NaN</td>\n",
       "      <td>65.0</td>\n",
       "    </tr>\n",
       "    <tr>\n",
       "      <th>2022-12-30</th>\n",
       "      <td>0.0</td>\n",
       "      <td>80</td>\n",
       "      <td>NaN</td>\n",
       "      <td>65.0</td>\n",
       "    </tr>\n",
       "    <tr>\n",
       "      <th>2022-12-31</th>\n",
       "      <td>0.0</td>\n",
       "      <td>78</td>\n",
       "      <td>NaN</td>\n",
       "      <td>64.0</td>\n",
       "    </tr>\n",
       "    <tr>\n",
       "      <th>2023-01-01</th>\n",
       "      <td>0.0</td>\n",
       "      <td>75</td>\n",
       "      <td>NaN</td>\n",
       "      <td>60.0</td>\n",
       "    </tr>\n",
       "  </tbody>\n",
       "</table>\n",
       "<p>3587 rows × 4 columns</p>\n",
       "</div>"
      ],
      "text/plain": [
       "            precip  temp_avg  temp_max  temp_min\n",
       "DATE                                            \n",
       "2000-01-07     0.0        76       NaN       NaN\n",
       "2000-01-10     0.0        78       NaN      60.0\n",
       "2000-01-13     0.0        76       NaN      65.0\n",
       "2000-01-16     0.0        75       NaN      56.0\n",
       "2000-01-18     0.0        84       NaN      71.0\n",
       "...            ...       ...       ...       ...\n",
       "2022-12-28     0.0        79       NaN      63.0\n",
       "2022-12-29     0.0        81       NaN      65.0\n",
       "2022-12-30     0.0        80       NaN      65.0\n",
       "2022-12-31     0.0        78       NaN      64.0\n",
       "2023-01-01     0.0        75       NaN      60.0\n",
       "\n",
       "[3587 rows x 4 columns]"
      ]
     },
     "execution_count": 27,
     "metadata": {},
     "output_type": "execute_result"
    }
   ],
   "source": [
    "core_attributes[pd.isnull(core_attributes[\"temp_max\"])]"
   ]
  },
  {
   "cell_type": "code",
   "execution_count": 28,
   "id": "976c9d22",
   "metadata": {},
   "outputs": [],
   "source": [
    "core_attributes = core_attributes.fillna(method= \"ffill\")\n",
    "\n",
    "# In Pandas, fillna is a method used to fill missing values in a DataFrame or Series object.\n",
    "# The argument passed to the method specifies the value to use for filling the missing values.\n",
    "# In this case, the ffill method is used to forward fill missing values with the last observed value.\n"
   ]
  },
  {
   "cell_type": "code",
   "execution_count": 29,
   "id": "8952ed47",
   "metadata": {},
   "outputs": [
    {
     "data": {
      "text/plain": [
       "precip      0.000000\n",
       "temp_avg    0.000000\n",
       "temp_max    0.000000\n",
       "temp_min    0.000119\n",
       "dtype: float64"
      ]
     },
     "execution_count": 29,
     "metadata": {},
     "output_type": "execute_result"
    }
   ],
   "source": [
    "core_attributes.apply(pd.isnull).sum()/core_attributes.shape[0]"
   ]
  },
  {
   "cell_type": "code",
   "execution_count": 30,
   "id": "2c3cfc64",
   "metadata": {},
   "outputs": [
    {
     "data": {
      "text/html": [
       "<div>\n",
       "<style scoped>\n",
       "    .dataframe tbody tr th:only-of-type {\n",
       "        vertical-align: middle;\n",
       "    }\n",
       "\n",
       "    .dataframe tbody tr th {\n",
       "        vertical-align: top;\n",
       "    }\n",
       "\n",
       "    .dataframe thead th {\n",
       "        text-align: right;\n",
       "    }\n",
       "</style>\n",
       "<table border=\"1\" class=\"dataframe\">\n",
       "  <thead>\n",
       "    <tr style=\"text-align: right;\">\n",
       "      <th></th>\n",
       "      <th>precip</th>\n",
       "      <th>temp_avg</th>\n",
       "      <th>temp_max</th>\n",
       "      <th>temp_min</th>\n",
       "    </tr>\n",
       "    <tr>\n",
       "      <th>DATE</th>\n",
       "      <th></th>\n",
       "      <th></th>\n",
       "      <th></th>\n",
       "      <th></th>\n",
       "    </tr>\n",
       "  </thead>\n",
       "  <tbody>\n",
       "    <tr>\n",
       "      <th>2000-01-01</th>\n",
       "      <td>0.0</td>\n",
       "      <td>78</td>\n",
       "      <td>93.0</td>\n",
       "      <td>NaN</td>\n",
       "    </tr>\n",
       "    <tr>\n",
       "      <th>2000-01-02</th>\n",
       "      <td>0.0</td>\n",
       "      <td>79</td>\n",
       "      <td>92.0</td>\n",
       "      <td>65.0</td>\n",
       "    </tr>\n",
       "    <tr>\n",
       "      <th>2000-01-03</th>\n",
       "      <td>0.0</td>\n",
       "      <td>79</td>\n",
       "      <td>92.0</td>\n",
       "      <td>65.0</td>\n",
       "    </tr>\n",
       "    <tr>\n",
       "      <th>2000-01-04</th>\n",
       "      <td>0.0</td>\n",
       "      <td>79</td>\n",
       "      <td>91.0</td>\n",
       "      <td>63.0</td>\n",
       "    </tr>\n",
       "    <tr>\n",
       "      <th>2000-01-05</th>\n",
       "      <td>0.0</td>\n",
       "      <td>79</td>\n",
       "      <td>91.0</td>\n",
       "      <td>64.0</td>\n",
       "    </tr>\n",
       "  </tbody>\n",
       "</table>\n",
       "</div>"
      ],
      "text/plain": [
       "            precip  temp_avg  temp_max  temp_min\n",
       "DATE                                            \n",
       "2000-01-01     0.0        78      93.0       NaN\n",
       "2000-01-02     0.0        79      92.0      65.0\n",
       "2000-01-03     0.0        79      92.0      65.0\n",
       "2000-01-04     0.0        79      91.0      63.0\n",
       "2000-01-05     0.0        79      91.0      64.0"
      ]
     },
     "execution_count": 30,
     "metadata": {},
     "output_type": "execute_result"
    }
   ],
   "source": [
    "core_attributes.head(5)"
   ]
  },
  {
   "cell_type": "code",
   "execution_count": 31,
   "id": "34d62948",
   "metadata": {},
   "outputs": [
    {
     "data": {
      "text/html": [
       "<div>\n",
       "<style scoped>\n",
       "    .dataframe tbody tr th:only-of-type {\n",
       "        vertical-align: middle;\n",
       "    }\n",
       "\n",
       "    .dataframe tbody tr th {\n",
       "        vertical-align: top;\n",
       "    }\n",
       "\n",
       "    .dataframe thead th {\n",
       "        text-align: right;\n",
       "    }\n",
       "</style>\n",
       "<table border=\"1\" class=\"dataframe\">\n",
       "  <thead>\n",
       "    <tr style=\"text-align: right;\">\n",
       "      <th></th>\n",
       "      <th>precip</th>\n",
       "      <th>temp_avg</th>\n",
       "      <th>temp_max</th>\n",
       "      <th>temp_min</th>\n",
       "    </tr>\n",
       "    <tr>\n",
       "      <th>DATE</th>\n",
       "      <th></th>\n",
       "      <th></th>\n",
       "      <th></th>\n",
       "      <th></th>\n",
       "    </tr>\n",
       "  </thead>\n",
       "  <tbody>\n",
       "    <tr>\n",
       "      <th>2022-12-28</th>\n",
       "      <td>0.0</td>\n",
       "      <td>79</td>\n",
       "      <td>95.0</td>\n",
       "      <td>63.0</td>\n",
       "    </tr>\n",
       "    <tr>\n",
       "      <th>2022-12-29</th>\n",
       "      <td>0.0</td>\n",
       "      <td>81</td>\n",
       "      <td>95.0</td>\n",
       "      <td>65.0</td>\n",
       "    </tr>\n",
       "    <tr>\n",
       "      <th>2022-12-30</th>\n",
       "      <td>0.0</td>\n",
       "      <td>80</td>\n",
       "      <td>95.0</td>\n",
       "      <td>65.0</td>\n",
       "    </tr>\n",
       "    <tr>\n",
       "      <th>2022-12-31</th>\n",
       "      <td>0.0</td>\n",
       "      <td>78</td>\n",
       "      <td>95.0</td>\n",
       "      <td>64.0</td>\n",
       "    </tr>\n",
       "    <tr>\n",
       "      <th>2023-01-01</th>\n",
       "      <td>0.0</td>\n",
       "      <td>75</td>\n",
       "      <td>95.0</td>\n",
       "      <td>60.0</td>\n",
       "    </tr>\n",
       "  </tbody>\n",
       "</table>\n",
       "</div>"
      ],
      "text/plain": [
       "            precip  temp_avg  temp_max  temp_min\n",
       "DATE                                            \n",
       "2022-12-28     0.0        79      95.0      63.0\n",
       "2022-12-29     0.0        81      95.0      65.0\n",
       "2022-12-30     0.0        80      95.0      65.0\n",
       "2022-12-31     0.0        78      95.0      64.0\n",
       "2023-01-01     0.0        75      95.0      60.0"
      ]
     },
     "execution_count": 31,
     "metadata": {},
     "output_type": "execute_result"
    }
   ],
   "source": [
    "core_attributes.tail(5)"
   ]
  },
  {
   "cell_type": "markdown",
   "id": "e1b70007",
   "metadata": {},
   "source": [
    "# verifying we have the correct data types"
   ]
  },
  {
   "cell_type": "code",
   "execution_count": 32,
   "id": "c71a4685",
   "metadata": {},
   "outputs": [
    {
     "data": {
      "text/plain": [
       "precip      float64\n",
       "temp_avg      int64\n",
       "temp_max    float64\n",
       "temp_min    float64\n",
       "dtype: object"
      ]
     },
     "execution_count": 32,
     "metadata": {},
     "output_type": "execute_result"
    }
   ],
   "source": [
    "core_attributes.dtypes"
   ]
  },
  {
   "cell_type": "code",
   "execution_count": 33,
   "id": "fe04cad0",
   "metadata": {},
   "outputs": [],
   "source": [
    "core_attributes['temp_avg']  = core_attributes['temp_avg'].astype(float)"
   ]
  },
  {
   "cell_type": "code",
   "execution_count": 34,
   "id": "6a06fd34",
   "metadata": {},
   "outputs": [
    {
     "data": {
      "text/html": [
       "<div>\n",
       "<style scoped>\n",
       "    .dataframe tbody tr th:only-of-type {\n",
       "        vertical-align: middle;\n",
       "    }\n",
       "\n",
       "    .dataframe tbody tr th {\n",
       "        vertical-align: top;\n",
       "    }\n",
       "\n",
       "    .dataframe thead th {\n",
       "        text-align: right;\n",
       "    }\n",
       "</style>\n",
       "<table border=\"1\" class=\"dataframe\">\n",
       "  <thead>\n",
       "    <tr style=\"text-align: right;\">\n",
       "      <th></th>\n",
       "      <th>precip</th>\n",
       "      <th>temp_avg</th>\n",
       "      <th>temp_max</th>\n",
       "      <th>temp_min</th>\n",
       "    </tr>\n",
       "    <tr>\n",
       "      <th>DATE</th>\n",
       "      <th></th>\n",
       "      <th></th>\n",
       "      <th></th>\n",
       "      <th></th>\n",
       "    </tr>\n",
       "  </thead>\n",
       "  <tbody>\n",
       "    <tr>\n",
       "      <th>2000-01-01</th>\n",
       "      <td>0.0</td>\n",
       "      <td>78.0</td>\n",
       "      <td>93.0</td>\n",
       "      <td>NaN</td>\n",
       "    </tr>\n",
       "    <tr>\n",
       "      <th>2000-01-02</th>\n",
       "      <td>0.0</td>\n",
       "      <td>79.0</td>\n",
       "      <td>92.0</td>\n",
       "      <td>65.0</td>\n",
       "    </tr>\n",
       "    <tr>\n",
       "      <th>2000-01-03</th>\n",
       "      <td>0.0</td>\n",
       "      <td>79.0</td>\n",
       "      <td>92.0</td>\n",
       "      <td>65.0</td>\n",
       "    </tr>\n",
       "    <tr>\n",
       "      <th>2000-01-04</th>\n",
       "      <td>0.0</td>\n",
       "      <td>79.0</td>\n",
       "      <td>91.0</td>\n",
       "      <td>63.0</td>\n",
       "    </tr>\n",
       "    <tr>\n",
       "      <th>2000-01-05</th>\n",
       "      <td>0.0</td>\n",
       "      <td>79.0</td>\n",
       "      <td>91.0</td>\n",
       "      <td>64.0</td>\n",
       "    </tr>\n",
       "  </tbody>\n",
       "</table>\n",
       "</div>"
      ],
      "text/plain": [
       "            precip  temp_avg  temp_max  temp_min\n",
       "DATE                                            \n",
       "2000-01-01     0.0      78.0      93.0       NaN\n",
       "2000-01-02     0.0      79.0      92.0      65.0\n",
       "2000-01-03     0.0      79.0      92.0      65.0\n",
       "2000-01-04     0.0      79.0      91.0      63.0\n",
       "2000-01-05     0.0      79.0      91.0      64.0"
      ]
     },
     "execution_count": 34,
     "metadata": {},
     "output_type": "execute_result"
    }
   ],
   "source": [
    "core_attributes.head(5)"
   ]
  },
  {
   "cell_type": "code",
   "execution_count": 35,
   "id": "5bd756b7",
   "metadata": {},
   "outputs": [
    {
     "data": {
      "text/html": [
       "<div>\n",
       "<style scoped>\n",
       "    .dataframe tbody tr th:only-of-type {\n",
       "        vertical-align: middle;\n",
       "    }\n",
       "\n",
       "    .dataframe tbody tr th {\n",
       "        vertical-align: top;\n",
       "    }\n",
       "\n",
       "    .dataframe thead th {\n",
       "        text-align: right;\n",
       "    }\n",
       "</style>\n",
       "<table border=\"1\" class=\"dataframe\">\n",
       "  <thead>\n",
       "    <tr style=\"text-align: right;\">\n",
       "      <th></th>\n",
       "      <th>precip</th>\n",
       "      <th>temp_avg</th>\n",
       "      <th>temp_max</th>\n",
       "      <th>temp_min</th>\n",
       "    </tr>\n",
       "    <tr>\n",
       "      <th>DATE</th>\n",
       "      <th></th>\n",
       "      <th></th>\n",
       "      <th></th>\n",
       "      <th></th>\n",
       "    </tr>\n",
       "  </thead>\n",
       "  <tbody>\n",
       "    <tr>\n",
       "      <th>2022-12-28</th>\n",
       "      <td>0.0</td>\n",
       "      <td>79.0</td>\n",
       "      <td>95.0</td>\n",
       "      <td>63.0</td>\n",
       "    </tr>\n",
       "    <tr>\n",
       "      <th>2022-12-29</th>\n",
       "      <td>0.0</td>\n",
       "      <td>81.0</td>\n",
       "      <td>95.0</td>\n",
       "      <td>65.0</td>\n",
       "    </tr>\n",
       "    <tr>\n",
       "      <th>2022-12-30</th>\n",
       "      <td>0.0</td>\n",
       "      <td>80.0</td>\n",
       "      <td>95.0</td>\n",
       "      <td>65.0</td>\n",
       "    </tr>\n",
       "    <tr>\n",
       "      <th>2022-12-31</th>\n",
       "      <td>0.0</td>\n",
       "      <td>78.0</td>\n",
       "      <td>95.0</td>\n",
       "      <td>64.0</td>\n",
       "    </tr>\n",
       "    <tr>\n",
       "      <th>2023-01-01</th>\n",
       "      <td>0.0</td>\n",
       "      <td>75.0</td>\n",
       "      <td>95.0</td>\n",
       "      <td>60.0</td>\n",
       "    </tr>\n",
       "  </tbody>\n",
       "</table>\n",
       "</div>"
      ],
      "text/plain": [
       "            precip  temp_avg  temp_max  temp_min\n",
       "DATE                                            \n",
       "2022-12-28     0.0      79.0      95.0      63.0\n",
       "2022-12-29     0.0      81.0      95.0      65.0\n",
       "2022-12-30     0.0      80.0      95.0      65.0\n",
       "2022-12-31     0.0      78.0      95.0      64.0\n",
       "2023-01-01     0.0      75.0      95.0      60.0"
      ]
     },
     "execution_count": 35,
     "metadata": {},
     "output_type": "execute_result"
    }
   ],
   "source": [
    "core_attributes.tail(5)"
   ]
  },
  {
   "cell_type": "code",
   "execution_count": 36,
   "id": "80f75a59",
   "metadata": {},
   "outputs": [
    {
     "data": {
      "text/plain": [
       "precip      0\n",
       "temp_avg    0\n",
       "temp_max    0\n",
       "temp_min    1\n",
       "dtype: int64"
      ]
     },
     "execution_count": 36,
     "metadata": {},
     "output_type": "execute_result"
    }
   ],
   "source": [
    "core_attributes.isnull().sum()"
   ]
  },
  {
   "cell_type": "code",
   "execution_count": 37,
   "id": "c99a8349",
   "metadata": {},
   "outputs": [
    {
     "data": {
      "text/plain": [
       "precip      float64\n",
       "temp_avg    float64\n",
       "temp_max    float64\n",
       "temp_min    float64\n",
       "dtype: object"
      ]
     },
     "execution_count": 37,
     "metadata": {},
     "output_type": "execute_result"
    }
   ],
   "source": [
    "core_attributes.dtypes"
   ]
  },
  {
   "cell_type": "code",
   "execution_count": 38,
   "id": "0d7672b1",
   "metadata": {},
   "outputs": [
    {
     "data": {
      "text/plain": [
       "Index(['2000-01-01', '2000-01-02', '2000-01-03', '2000-01-04', '2000-01-05',\n",
       "       '2000-01-06', '2000-01-07', '2000-01-08', '2000-01-09', '2000-01-10',\n",
       "       ...\n",
       "       '2022-12-23', '2022-12-24', '2022-12-25', '2022-12-26', '2022-12-27',\n",
       "       '2022-12-28', '2022-12-29', '2022-12-30', '2022-12-31', '2023-01-01'],\n",
       "      dtype='object', name='DATE', length=8399)"
      ]
     },
     "execution_count": 38,
     "metadata": {},
     "output_type": "execute_result"
    }
   ],
   "source": [
    "core_attributes.index"
   ]
  },
  {
   "cell_type": "code",
   "execution_count": 39,
   "id": "11a4154c",
   "metadata": {},
   "outputs": [],
   "source": [
    "# convert the index into datetime index \n",
    "core_attributes.index = pd.to_datetime(core_attributes.index)"
   ]
  },
  {
   "cell_type": "code",
   "execution_count": 40,
   "id": "a387e478",
   "metadata": {},
   "outputs": [
    {
     "data": {
      "text/plain": [
       "DatetimeIndex(['2000-01-01', '2000-01-02', '2000-01-03', '2000-01-04',\n",
       "               '2000-01-05', '2000-01-06', '2000-01-07', '2000-01-08',\n",
       "               '2000-01-09', '2000-01-10',\n",
       "               ...\n",
       "               '2022-12-23', '2022-12-24', '2022-12-25', '2022-12-26',\n",
       "               '2022-12-27', '2022-12-28', '2022-12-29', '2022-12-30',\n",
       "               '2022-12-31', '2023-01-01'],\n",
       "              dtype='datetime64[ns]', name='DATE', length=8399, freq=None)"
      ]
     },
     "execution_count": 40,
     "metadata": {},
     "output_type": "execute_result"
    }
   ],
   "source": [
    "core_attributes.index"
   ]
  },
  {
   "cell_type": "code",
   "execution_count": 41,
   "id": "a1c6e87b",
   "metadata": {},
   "outputs": [
    {
     "data": {
      "text/plain": [
       "Int64Index([2000, 2000, 2000, 2000, 2000, 2000, 2000, 2000, 2000, 2000,\n",
       "            ...\n",
       "            2022, 2022, 2022, 2022, 2022, 2022, 2022, 2022, 2022, 2023],\n",
       "           dtype='int64', name='DATE', length=8399)"
      ]
     },
     "execution_count": 41,
     "metadata": {},
     "output_type": "execute_result"
    }
   ],
   "source": [
    "core_attributes.index.year"
   ]
  },
  {
   "cell_type": "code",
   "execution_count": 42,
   "id": "c7eb0770",
   "metadata": {},
   "outputs": [
    {
     "data": {
      "text/plain": [
       "array([datetime.date(2000, 1, 1), datetime.date(2000, 1, 2),\n",
       "       datetime.date(2000, 1, 3), ..., datetime.date(2022, 12, 30),\n",
       "       datetime.date(2022, 12, 31), datetime.date(2023, 1, 1)],\n",
       "      dtype=object)"
      ]
     },
     "execution_count": 42,
     "metadata": {},
     "output_type": "execute_result"
    }
   ],
   "source": [
    "core_attributes.index.date"
   ]
  },
  {
   "cell_type": "code",
   "execution_count": 43,
   "id": "f20235cc",
   "metadata": {},
   "outputs": [
    {
     "data": {
      "text/plain": [
       "precip      0\n",
       "temp_avg    0\n",
       "temp_max    0\n",
       "temp_min    0\n",
       "dtype: int64"
      ]
     },
     "execution_count": 43,
     "metadata": {},
     "output_type": "execute_result"
    }
   ],
   "source": [
    "# Condtion we have to used that is given in the dataset document \n",
    "# Observation(s) is/are defined in Table 4 below. 9’s in a field (e.g.9999) indicate missing data or data that\n",
    "# has not been received.\n",
    "core_attributes.apply(lambda x :(x==9999).sum())"
   ]
  },
  {
   "cell_type": "markdown",
   "id": "4254cc9f",
   "metadata": {},
   "source": [
    "# Analysing the climate change dataset"
   ]
  },
  {
   "cell_type": "code",
   "execution_count": 44,
   "id": "b6ac1bd5",
   "metadata": {},
   "outputs": [
    {
     "data": {
      "image/png": "[encoded data removed]",
      "text/plain": [
       "<Figure size 432x288 with 1 Axes>"
      ]
     },
     "metadata": {
      "needs_background": "light"
     },
     "output_type": "display_data"
    }
   ],
   "source": [
    "# The .plot() method is then used to create a line plot of the selected columns. By default, the x-axis of the plot will be the DataFrame index, and the y-axis will be the values of the selected columns.\n",
    "core_attributes[[\"temp_avg\" , \"temp_max\" , \"temp_min\"]].plot()\n",
    "plt.xlabel('Date')\n",
    "plt.ylabel('Temperature (C)')\n",
    "plt.title('Daily Temperature Averages, Maximums and Minimums')\n",
    "\n",
    "# Show the plot\n",
    "plt.show()"
   ]
  },
  {
   "cell_type": "code",
   "execution_count": 45,
   "id": "647a6d8f",
   "metadata": {},
   "outputs": [
    {
     "data": {
      "image/png": "[encoded data removed]",
      "text/plain": [
       "<Figure size 432x288 with 1 Axes>"
      ]
     },
     "metadata": {
      "needs_background": "light"
     },
     "output_type": "display_data"
    }
   ],
   "source": [
    "core_attributes.plot(kind = \"hist\", use_index=True , y = [\"temp_avg\",\"temp_max\",\"temp_min\"] )\n",
    "\n",
    "plt.xlabel('Date')\n",
    "plt.ylabel('Temperature (C)')\n",
    "plt.title('Daily Temperature Averages, Maximums and Minimums')\n",
    "\n",
    "# Show the plot\n",
    "plt.show()"
   ]
  },
  {
   "cell_type": "code",
   "execution_count": null,
   "id": "b911c1d9",
   "metadata": {},
   "outputs": [],
   "source": []
  },
  {
   "cell_type": "code",
   "execution_count": 46,
   "id": "d5d74b50",
   "metadata": {},
   "outputs": [
    {
     "data": {
      "text/plain": [
       "2000    366\n",
       "2001    365\n",
       "2002    365\n",
       "2003    365\n",
       "2004    366\n",
       "2005    365\n",
       "2006    365\n",
       "2007    365\n",
       "2008    366\n",
       "2009    365\n",
       "2010    365\n",
       "2011    365\n",
       "2012    366\n",
       "2013    365\n",
       "2014    365\n",
       "2015    365\n",
       "2016    366\n",
       "2017    365\n",
       "2018    365\n",
       "2019    365\n",
       "2020    366\n",
       "2021    362\n",
       "2022    365\n",
       "2023      1\n",
       "Name: DATE, dtype: int64"
      ]
     },
     "execution_count": 46,
     "metadata": {},
     "output_type": "execute_result"
    }
   ],
   "source": [
    "# Number of day in te particluar year\n",
    "core_attributes.index.year.value_counts().sort_index()"
   ]
  },
  {
   "cell_type": "code",
   "execution_count": 47,
   "id": "1e5dce34",
   "metadata": {},
   "outputs": [
    {
     "data": {
      "text/plain": [
       "<AxesSubplot:xlabel='DATE'>"
      ]
     },
     "execution_count": 47,
     "metadata": {},
     "output_type": "execute_result"
    },
    {
     "data": {
      "image/png": "[encoded data removed]",
      "text/plain": [
       "<Figure size 432x288 with 1 Axes>"
      ]
     },
     "metadata": {
      "needs_background": "light"
     },
     "output_type": "display_data"
    }
   ],
   "source": [
    "core_attributes[\"precip\"].plot()\n"
   ]
  },
  {
   "cell_type": "code",
   "execution_count": 48,
   "id": "f53eb802",
   "metadata": {},
   "outputs": [
    {
     "data": {
      "text/plain": [
       "DATE\n",
       "2000     88.14\n",
       "2001     74.74\n",
       "2002     50.04\n",
       "2003     87.83\n",
       "2004     83.52\n",
       "2005    110.99\n",
       "2006    115.26\n",
       "2007     90.28\n",
       "2008    107.17\n",
       "2009     88.31\n",
       "2010    132.18\n",
       "2011    106.36\n",
       "2012     81.13\n",
       "2013     96.55\n",
       "2014     90.59\n",
       "2015     69.52\n",
       "2016    119.54\n",
       "2017    120.24\n",
       "2018     85.01\n",
       "2019    140.37\n",
       "2020    134.62\n",
       "2021    124.38\n",
       "2022    100.19\n",
       "2023      0.00\n",
       "Name: precip, dtype: float64"
      ]
     },
     "execution_count": 48,
     "metadata": {},
     "output_type": "execute_result"
    }
   ],
   "source": [
    "core_attributes.groupby(core_attributes.index.year).sum()[\"precip\"]"
   ]
  },
  {
   "cell_type": "markdown",
   "id": "39bf2403",
   "metadata": {},
   "source": [
    "In Pandas, groupby is a method used to group data in a DataFrame or Series object based on one or more columns or index levels. The sum method is used to aggregate the data within each group by computing the sum of the values in each column.\n",
    " groups the core_attributes DataFrame by the year of the index and computes the sum of the \"precip\" column for each year.\n",
    " core_attributes.groupby(core_attributes.index.year) groups the core_attributes DataFrame by the year of the index, creating a DataFrameGroupBy object.\n",
    ".sum() aggregates the data within each group by computing the sum of the values in each column.\n",
    "[\"precip\"] selects only the \"precip\" column from the aggregated data."
   ]
  },
  {
   "cell_type": "markdown",
   "id": "67e96a4b",
   "metadata": {},
   "source": [
    "# Training our machine learning model "
   ]
  },
  {
   "cell_type": "code",
   "execution_count": 49,
   "id": "fc09863d",
   "metadata": {},
   "outputs": [],
   "source": [
    "# in this case we have to predict tommorow's maximum temperture using  historical data\n",
    "# Overall, this line of code is used to create a target variable for a machine learning model, \n",
    "core_attributes[\"target\"] = core_attributes.shift(-1)[\"temp_max\"]"
   ]
  },
  {
   "cell_type": "code",
   "execution_count": 58,
   "id": "ae4f8c1b",
   "metadata": {},
   "outputs": [
    {
     "data": {
      "text/html": [
       "<div>\n",
       "<style scoped>\n",
       "    .dataframe tbody tr th:only-of-type {\n",
       "        vertical-align: middle;\n",
       "    }\n",
       "\n",
       "    .dataframe tbody tr th {\n",
       "        vertical-align: top;\n",
       "    }\n",
       "\n",
       "    .dataframe thead th {\n",
       "        text-align: right;\n",
       "    }\n",
       "</style>\n",
       "<table border=\"1\" class=\"dataframe\">\n",
       "  <thead>\n",
       "    <tr style=\"text-align: right;\">\n",
       "      <th></th>\n",
       "      <th>precip</th>\n",
       "      <th>temp_avg</th>\n",
       "      <th>temp_max</th>\n",
       "      <th>temp_min</th>\n",
       "      <th>target</th>\n",
       "    </tr>\n",
       "    <tr>\n",
       "      <th>DATE</th>\n",
       "      <th></th>\n",
       "      <th></th>\n",
       "      <th></th>\n",
       "      <th></th>\n",
       "      <th></th>\n",
       "    </tr>\n",
       "  </thead>\n",
       "  <tbody>\n",
       "    <tr>\n",
       "      <th>2000-01-01</th>\n",
       "      <td>0.0</td>\n",
       "      <td>78.0</td>\n",
       "      <td>93.0</td>\n",
       "      <td>0.0</td>\n",
       "      <td>92.0</td>\n",
       "    </tr>\n",
       "    <tr>\n",
       "      <th>2000-01-02</th>\n",
       "      <td>0.0</td>\n",
       "      <td>79.0</td>\n",
       "      <td>92.0</td>\n",
       "      <td>65.0</td>\n",
       "      <td>92.0</td>\n",
       "    </tr>\n",
       "    <tr>\n",
       "      <th>2000-01-03</th>\n",
       "      <td>0.0</td>\n",
       "      <td>79.0</td>\n",
       "      <td>92.0</td>\n",
       "      <td>65.0</td>\n",
       "      <td>91.0</td>\n",
       "    </tr>\n",
       "    <tr>\n",
       "      <th>2000-01-04</th>\n",
       "      <td>0.0</td>\n",
       "      <td>79.0</td>\n",
       "      <td>91.0</td>\n",
       "      <td>63.0</td>\n",
       "      <td>91.0</td>\n",
       "    </tr>\n",
       "    <tr>\n",
       "      <th>2000-01-05</th>\n",
       "      <td>0.0</td>\n",
       "      <td>79.0</td>\n",
       "      <td>91.0</td>\n",
       "      <td>64.0</td>\n",
       "      <td>91.0</td>\n",
       "    </tr>\n",
       "    <tr>\n",
       "      <th>...</th>\n",
       "      <td>...</td>\n",
       "      <td>...</td>\n",
       "      <td>...</td>\n",
       "      <td>...</td>\n",
       "      <td>...</td>\n",
       "    </tr>\n",
       "    <tr>\n",
       "      <th>2022-12-27</th>\n",
       "      <td>0.0</td>\n",
       "      <td>78.0</td>\n",
       "      <td>95.0</td>\n",
       "      <td>63.0</td>\n",
       "      <td>95.0</td>\n",
       "    </tr>\n",
       "    <tr>\n",
       "      <th>2022-12-28</th>\n",
       "      <td>0.0</td>\n",
       "      <td>79.0</td>\n",
       "      <td>95.0</td>\n",
       "      <td>63.0</td>\n",
       "      <td>95.0</td>\n",
       "    </tr>\n",
       "    <tr>\n",
       "      <th>2022-12-29</th>\n",
       "      <td>0.0</td>\n",
       "      <td>81.0</td>\n",
       "      <td>95.0</td>\n",
       "      <td>65.0</td>\n",
       "      <td>95.0</td>\n",
       "    </tr>\n",
       "    <tr>\n",
       "      <th>2022-12-30</th>\n",
       "      <td>0.0</td>\n",
       "      <td>80.0</td>\n",
       "      <td>95.0</td>\n",
       "      <td>65.0</td>\n",
       "      <td>95.0</td>\n",
       "    </tr>\n",
       "    <tr>\n",
       "      <th>2022-12-31</th>\n",
       "      <td>0.0</td>\n",
       "      <td>78.0</td>\n",
       "      <td>95.0</td>\n",
       "      <td>64.0</td>\n",
       "      <td>95.0</td>\n",
       "    </tr>\n",
       "  </tbody>\n",
       "</table>\n",
       "<p>8398 rows × 5 columns</p>\n",
       "</div>"
      ],
      "text/plain": [
       "            precip  temp_avg  temp_max  temp_min  target\n",
       "DATE                                                    \n",
       "2000-01-01     0.0      78.0      93.0       0.0    92.0\n",
       "2000-01-02     0.0      79.0      92.0      65.0    92.0\n",
       "2000-01-03     0.0      79.0      92.0      65.0    91.0\n",
       "2000-01-04     0.0      79.0      91.0      63.0    91.0\n",
       "2000-01-05     0.0      79.0      91.0      64.0    91.0\n",
       "...            ...       ...       ...       ...     ...\n",
       "2022-12-27     0.0      78.0      95.0      63.0    95.0\n",
       "2022-12-28     0.0      79.0      95.0      63.0    95.0\n",
       "2022-12-29     0.0      81.0      95.0      65.0    95.0\n",
       "2022-12-30     0.0      80.0      95.0      65.0    95.0\n",
       "2022-12-31     0.0      78.0      95.0      64.0    95.0\n",
       "\n",
       "[8398 rows x 5 columns]"
      ]
     },
     "execution_count": 58,
     "metadata": {},
     "output_type": "execute_result"
    }
   ],
   "source": [
    "core_attributes"
   ]
  },
  {
   "cell_type": "code",
   "execution_count": 51,
   "id": "087d9122",
   "metadata": {},
   "outputs": [],
   "source": [
    "core_attributes = core_attributes.iloc[:-1,:].copy()\n",
    "# [:-1 , :] select all rows accepts last one (-1) as it contain null value  and select all the columns\n",
    "core_attributes = core_attributes.fillna(0, axis = 1)"
   ]
  },
  {
   "cell_type": "code",
   "execution_count": 59,
   "id": "9223b287",
   "metadata": {},
   "outputs": [
    {
     "data": {
      "text/html": [
       "<div>\n",
       "<style scoped>\n",
       "    .dataframe tbody tr th:only-of-type {\n",
       "        vertical-align: middle;\n",
       "    }\n",
       "\n",
       "    .dataframe tbody tr th {\n",
       "        vertical-align: top;\n",
       "    }\n",
       "\n",
       "    .dataframe thead th {\n",
       "        text-align: right;\n",
       "    }\n",
       "</style>\n",
       "<table border=\"1\" class=\"dataframe\">\n",
       "  <thead>\n",
       "    <tr style=\"text-align: right;\">\n",
       "      <th></th>\n",
       "      <th>precip</th>\n",
       "      <th>temp_avg</th>\n",
       "      <th>temp_max</th>\n",
       "      <th>temp_min</th>\n",
       "      <th>target</th>\n",
       "    </tr>\n",
       "    <tr>\n",
       "      <th>DATE</th>\n",
       "      <th></th>\n",
       "      <th></th>\n",
       "      <th></th>\n",
       "      <th></th>\n",
       "      <th></th>\n",
       "    </tr>\n",
       "  </thead>\n",
       "  <tbody>\n",
       "    <tr>\n",
       "      <th>2000-01-01</th>\n",
       "      <td>0.0</td>\n",
       "      <td>78.0</td>\n",
       "      <td>93.0</td>\n",
       "      <td>0.0</td>\n",
       "      <td>92.0</td>\n",
       "    </tr>\n",
       "    <tr>\n",
       "      <th>2000-01-02</th>\n",
       "      <td>0.0</td>\n",
       "      <td>79.0</td>\n",
       "      <td>92.0</td>\n",
       "      <td>65.0</td>\n",
       "      <td>92.0</td>\n",
       "    </tr>\n",
       "    <tr>\n",
       "      <th>2000-01-03</th>\n",
       "      <td>0.0</td>\n",
       "      <td>79.0</td>\n",
       "      <td>92.0</td>\n",
       "      <td>65.0</td>\n",
       "      <td>91.0</td>\n",
       "    </tr>\n",
       "    <tr>\n",
       "      <th>2000-01-04</th>\n",
       "      <td>0.0</td>\n",
       "      <td>79.0</td>\n",
       "      <td>91.0</td>\n",
       "      <td>63.0</td>\n",
       "      <td>91.0</td>\n",
       "    </tr>\n",
       "    <tr>\n",
       "      <th>2000-01-05</th>\n",
       "      <td>0.0</td>\n",
       "      <td>79.0</td>\n",
       "      <td>91.0</td>\n",
       "      <td>64.0</td>\n",
       "      <td>91.0</td>\n",
       "    </tr>\n",
       "    <tr>\n",
       "      <th>...</th>\n",
       "      <td>...</td>\n",
       "      <td>...</td>\n",
       "      <td>...</td>\n",
       "      <td>...</td>\n",
       "      <td>...</td>\n",
       "    </tr>\n",
       "    <tr>\n",
       "      <th>2022-12-27</th>\n",
       "      <td>0.0</td>\n",
       "      <td>78.0</td>\n",
       "      <td>95.0</td>\n",
       "      <td>63.0</td>\n",
       "      <td>95.0</td>\n",
       "    </tr>\n",
       "    <tr>\n",
       "      <th>2022-12-28</th>\n",
       "      <td>0.0</td>\n",
       "      <td>79.0</td>\n",
       "      <td>95.0</td>\n",
       "      <td>63.0</td>\n",
       "      <td>95.0</td>\n",
       "    </tr>\n",
       "    <tr>\n",
       "      <th>2022-12-29</th>\n",
       "      <td>0.0</td>\n",
       "      <td>81.0</td>\n",
       "      <td>95.0</td>\n",
       "      <td>65.0</td>\n",
       "      <td>95.0</td>\n",
       "    </tr>\n",
       "    <tr>\n",
       "      <th>2022-12-30</th>\n",
       "      <td>0.0</td>\n",
       "      <td>80.0</td>\n",
       "      <td>95.0</td>\n",
       "      <td>65.0</td>\n",
       "      <td>95.0</td>\n",
       "    </tr>\n",
       "    <tr>\n",
       "      <th>2022-12-31</th>\n",
       "      <td>0.0</td>\n",
       "      <td>78.0</td>\n",
       "      <td>95.0</td>\n",
       "      <td>64.0</td>\n",
       "      <td>95.0</td>\n",
       "    </tr>\n",
       "  </tbody>\n",
       "</table>\n",
       "<p>8398 rows × 5 columns</p>\n",
       "</div>"
      ],
      "text/plain": [
       "            precip  temp_avg  temp_max  temp_min  target\n",
       "DATE                                                    \n",
       "2000-01-01     0.0      78.0      93.0       0.0    92.0\n",
       "2000-01-02     0.0      79.0      92.0      65.0    92.0\n",
       "2000-01-03     0.0      79.0      92.0      65.0    91.0\n",
       "2000-01-04     0.0      79.0      91.0      63.0    91.0\n",
       "2000-01-05     0.0      79.0      91.0      64.0    91.0\n",
       "...            ...       ...       ...       ...     ...\n",
       "2022-12-27     0.0      78.0      95.0      63.0    95.0\n",
       "2022-12-28     0.0      79.0      95.0      63.0    95.0\n",
       "2022-12-29     0.0      81.0      95.0      65.0    95.0\n",
       "2022-12-30     0.0      80.0      95.0      65.0    95.0\n",
       "2022-12-31     0.0      78.0      95.0      64.0    95.0\n",
       "\n",
       "[8398 rows x 5 columns]"
      ]
     },
     "execution_count": 59,
     "metadata": {},
     "output_type": "execute_result"
    }
   ],
   "source": [
    "core_attributes"
   ]
  },
  {
   "cell_type": "markdown",
   "id": "42465b86",
   "metadata": {},
   "source": [
    "# Linear Regression "
   ]
  },
  {
   "cell_type": "code",
   "execution_count": 53,
   "id": "932b3198",
   "metadata": {},
   "outputs": [],
   "source": [
    "from sklearn.model_selection import train_test_split \n",
    "from sklearn.linear_model import LinearRegression"
   ]
  },
  {
   "cell_type": "code",
   "execution_count": 54,
   "id": "fe2c064e",
   "metadata": {},
   "outputs": [],
   "source": [
    "x = core_attributes[['precip', 'temp_avg', 'temp_max', 'temp_min']]\n",
    "y = core_attributes['target']"
   ]
  },
  {
   "cell_type": "code",
   "execution_count": 61,
   "id": "725e11ad",
   "metadata": {},
   "outputs": [
    {
     "data": {
      "text/html": [
       "<div>\n",
       "<style scoped>\n",
       "    .dataframe tbody tr th:only-of-type {\n",
       "        vertical-align: middle;\n",
       "    }\n",
       "\n",
       "    .dataframe tbody tr th {\n",
       "        vertical-align: top;\n",
       "    }\n",
       "\n",
       "    .dataframe thead th {\n",
       "        text-align: right;\n",
       "    }\n",
       "</style>\n",
       "<table border=\"1\" class=\"dataframe\">\n",
       "  <thead>\n",
       "    <tr style=\"text-align: right;\">\n",
       "      <th></th>\n",
       "      <th>precip</th>\n",
       "      <th>temp_avg</th>\n",
       "      <th>temp_max</th>\n",
       "      <th>temp_min</th>\n",
       "    </tr>\n",
       "    <tr>\n",
       "      <th>DATE</th>\n",
       "      <th></th>\n",
       "      <th></th>\n",
       "      <th></th>\n",
       "      <th></th>\n",
       "    </tr>\n",
       "  </thead>\n",
       "  <tbody>\n",
       "    <tr>\n",
       "      <th>2000-01-01</th>\n",
       "      <td>0.0</td>\n",
       "      <td>78.0</td>\n",
       "      <td>93.0</td>\n",
       "      <td>0.0</td>\n",
       "    </tr>\n",
       "    <tr>\n",
       "      <th>2000-01-02</th>\n",
       "      <td>0.0</td>\n",
       "      <td>79.0</td>\n",
       "      <td>92.0</td>\n",
       "      <td>65.0</td>\n",
       "    </tr>\n",
       "    <tr>\n",
       "      <th>2000-01-03</th>\n",
       "      <td>0.0</td>\n",
       "      <td>79.0</td>\n",
       "      <td>92.0</td>\n",
       "      <td>65.0</td>\n",
       "    </tr>\n",
       "    <tr>\n",
       "      <th>2000-01-04</th>\n",
       "      <td>0.0</td>\n",
       "      <td>79.0</td>\n",
       "      <td>91.0</td>\n",
       "      <td>63.0</td>\n",
       "    </tr>\n",
       "    <tr>\n",
       "      <th>2000-01-05</th>\n",
       "      <td>0.0</td>\n",
       "      <td>79.0</td>\n",
       "      <td>91.0</td>\n",
       "      <td>64.0</td>\n",
       "    </tr>\n",
       "    <tr>\n",
       "      <th>...</th>\n",
       "      <td>...</td>\n",
       "      <td>...</td>\n",
       "      <td>...</td>\n",
       "      <td>...</td>\n",
       "    </tr>\n",
       "    <tr>\n",
       "      <th>2022-12-27</th>\n",
       "      <td>0.0</td>\n",
       "      <td>78.0</td>\n",
       "      <td>95.0</td>\n",
       "      <td>63.0</td>\n",
       "    </tr>\n",
       "    <tr>\n",
       "      <th>2022-12-28</th>\n",
       "      <td>0.0</td>\n",
       "      <td>79.0</td>\n",
       "      <td>95.0</td>\n",
       "      <td>63.0</td>\n",
       "    </tr>\n",
       "    <tr>\n",
       "      <th>2022-12-29</th>\n",
       "      <td>0.0</td>\n",
       "      <td>81.0</td>\n",
       "      <td>95.0</td>\n",
       "      <td>65.0</td>\n",
       "    </tr>\n",
       "    <tr>\n",
       "      <th>2022-12-30</th>\n",
       "      <td>0.0</td>\n",
       "      <td>80.0</td>\n",
       "      <td>95.0</td>\n",
       "      <td>65.0</td>\n",
       "    </tr>\n",
       "    <tr>\n",
       "      <th>2022-12-31</th>\n",
       "      <td>0.0</td>\n",
       "      <td>78.0</td>\n",
       "      <td>95.0</td>\n",
       "      <td>64.0</td>\n",
       "    </tr>\n",
       "  </tbody>\n",
       "</table>\n",
       "<p>8398 rows × 4 columns</p>\n",
       "</div>"
      ],
      "text/plain": [
       "            precip  temp_avg  temp_max  temp_min\n",
       "DATE                                            \n",
       "2000-01-01     0.0      78.0      93.0       0.0\n",
       "2000-01-02     0.0      79.0      92.0      65.0\n",
       "2000-01-03     0.0      79.0      92.0      65.0\n",
       "2000-01-04     0.0      79.0      91.0      63.0\n",
       "2000-01-05     0.0      79.0      91.0      64.0\n",
       "...            ...       ...       ...       ...\n",
       "2022-12-27     0.0      78.0      95.0      63.0\n",
       "2022-12-28     0.0      79.0      95.0      63.0\n",
       "2022-12-29     0.0      81.0      95.0      65.0\n",
       "2022-12-30     0.0      80.0      95.0      65.0\n",
       "2022-12-31     0.0      78.0      95.0      64.0\n",
       "\n",
       "[8398 rows x 4 columns]"
      ]
     },
     "execution_count": 61,
     "metadata": {},
     "output_type": "execute_result"
    }
   ],
   "source": [
    "x"
   ]
  },
  {
   "cell_type": "code",
   "execution_count": 62,
   "id": "5be604ec",
   "metadata": {},
   "outputs": [
    {
     "data": {
      "text/plain": [
       "DATE\n",
       "2000-01-01    92.0\n",
       "2000-01-02    92.0\n",
       "2000-01-03    91.0\n",
       "2000-01-04    91.0\n",
       "2000-01-05    91.0\n",
       "              ... \n",
       "2022-12-27    95.0\n",
       "2022-12-28    95.0\n",
       "2022-12-29    95.0\n",
       "2022-12-30    95.0\n",
       "2022-12-31    95.0\n",
       "Name: target, Length: 8398, dtype: float64"
      ]
     },
     "execution_count": 62,
     "metadata": {},
     "output_type": "execute_result"
    }
   ],
   "source": [
    "y\n"
   ]
  },
  {
   "cell_type": "markdown",
   "id": "1e9e46cd",
   "metadata": {},
   "source": [
    "# Training the data into training and testing part"
   ]
  },
  {
   "cell_type": "code",
   "execution_count": 64,
   "id": "0661b79d",
   "metadata": {},
   "outputs": [],
   "source": [
    "\n",
    "x_train, x_test, y_train, y_test = train_test_split(x, y, test_size=0.25, random_state=42)\n",
    "\n",
    "# This split the data into 75% training and 25% testing \n"
   ]
  },
  {
   "cell_type": "code",
   "execution_count": 66,
   "id": "0ed4e3f7",
   "metadata": {},
   "outputs": [],
   "source": [
    "# create the instance of the LinearRegression model\n",
    "reg = LinearRegression()"
   ]
  },
  {
   "cell_type": "code",
   "execution_count": 67,
   "id": "cf47cebf",
   "metadata": {},
   "outputs": [
    {
     "data": {
      "text/plain": [
       "LinearRegression()"
      ]
     },
     "execution_count": 67,
     "metadata": {},
     "output_type": "execute_result"
    }
   ],
   "source": [
    "# fit the model to the traing data \n",
    "reg.fit(_train , y_train)"
   ]
  },
  {
   "cell_type": "code",
   "execution_count": 68,
   "id": "18453e5e",
   "metadata": {},
   "outputs": [],
   "source": [
    "# predict the target varible of the test data \n",
    "y_pred = reg.predict(x_test)"
   ]
  },
  {
   "cell_type": "code",
   "execution_count": 69,
   "id": "cd2c347b",
   "metadata": {},
   "outputs": [
    {
     "data": {
      "text/plain": [
       "array([84.77119009, 93.38134553, 90.85120675, ..., 96.10940269,\n",
       "       90.18261286, 87.50527977])"
      ]
     },
     "execution_count": 69,
     "metadata": {},
     "output_type": "execute_result"
    }
   ],
   "source": [
    "y_pred\n"
   ]
  },
  {
   "cell_type": "code",
   "execution_count": 70,
   "id": "b2b780e7",
   "metadata": {},
   "outputs": [
    {
     "data": {
      "text/plain": [
       "<seaborn.axisgrid.FacetGrid at 0x247bae7d460>"
      ]
     },
     "execution_count": 70,
     "metadata": {},
     "output_type": "execute_result"
    },
    {
     "data": {
      "image/png": "[encoded data removed]",
      "text/plain": [
       "<Figure size 360x360 with 1 Axes>"
      ]
     },
     "metadata": {
      "needs_background": "light"
     },
     "output_type": "display_data"
    }
   ],
   "source": [
    "import seaborn as sns \n",
    "sns.displot(y_pred-y_test,kind = \"kde\" , color = \"red\")"
   ]
  },
  {
   "cell_type": "markdown",
   "id": "d96d981e",
   "metadata": {},
   "source": [
    "# Evalution the performance of the model"
   ]
  },
  {
   "cell_type": "code",
   "execution_count": 71,
   "id": "d8fb0959",
   "metadata": {},
   "outputs": [
    {
     "name": "stdout",
     "output_type": "stream",
     "text": [
      "Mean Squared Error: 3.96636669638632\n",
      "R-squared: 0.734886619483379\n"
     ]
    }
   ],
   "source": [
    "from sklearn.metrics import mean_squared_error, r2_score\n",
    "\n",
    "mse = mean_squared_error(y_test, y_pred)\n",
    "r2 = r2_score(y_test, y_pred)\n",
    "\n",
    "print(\"Mean Squared Error:\", mse)\n",
    "print(\"R-squared:\", r2)"
   ]
  },
  {
   "cell_type": "markdown",
   "id": "f312e367",
   "metadata": {},
   "source": [
    "  mse value should be as small a value as possible so that our model is good"
   ]
  },
  {
   "cell_type": "markdown",
   "id": "42173395",
   "metadata": {},
   "source": [
    " from this graph we can say that most of the point are lies  between -5 to 5 so it is good . variance is less \n",
    " "
   ]
  },
  {
   "cell_type": "markdown",
   "id": "948bf099",
   "metadata": {},
   "source": [
    "the difference between predicted and actual point is less "
   ]
  },
  {
   "cell_type": "markdown",
   "id": "87e9e802",
   "metadata": {},
   "source": [
    "Ridge\n",
    "Ridge regression addresses some of the problems of Ordinary Least Squares by imposing a penalty on the size of the coefficients with l2 regularization."
   ]
  },
  {
   "cell_type": "markdown",
   "id": "b87a5e33",
   "metadata": {},
   "source": [
    "# Ridge Regression"
   ]
  },
  {
   "cell_type": "code",
   "execution_count": 79,
   "id": "0c74b532",
   "metadata": {},
   "outputs": [],
   "source": [
    "# This code imports the Ridge regression model from the linear_model module of the scikit-learn (sklearn) library and creates an instance of the Ridge class with a regularization strength of 1.\n",
    "# alpha = 1 which helps to prevent overfitting by shrinking the coefficients towards zero.\n",
    "from sklearn.linear_model import Ridge  \n",
    "reg = Ridge(alpha=1)\n"
   ]
  },
  {
   "cell_type": "code",
   "execution_count": 80,
   "id": "43d3e7eb",
   "metadata": {},
   "outputs": [],
   "source": [
    "input_features = [\"precip\", \"temp_max\",\"temp_avg\",\"temp_min\"]\n",
    "outcome = [\"target\"]"
   ]
  },
  {
   "cell_type": "markdown",
   "id": "56e9da35",
   "metadata": {},
   "source": [
    "# Splitting the data into training and testing part "
   ]
  },
  {
   "cell_type": "code",
   "execution_count": 81,
   "id": "3002419a",
   "metadata": {},
   "outputs": [],
   "source": [
    "# that type of splitting is done when u are using time series dataset / when u are using previous data to predict the future wheather condition  \n",
    "\n",
    "train = core_attributes.loc[:\"2020-12-31\"]\n"
   ]
  },
  {
   "cell_type": "code",
   "execution_count": 82,
   "id": "222779c1",
   "metadata": {},
   "outputs": [],
   "source": [
    "test = core_attributes.loc[\"2021-01-01\":]"
   ]
  },
  {
   "cell_type": "code",
   "execution_count": 83,
   "id": "b9685c9f",
   "metadata": {},
   "outputs": [],
   "source": [
    "train\n",
    "\n",
    "train. to_excel(\"train_climate.xlsx\", index=True)"
   ]
  },
  {
   "cell_type": "code",
   "execution_count": 84,
   "id": "212efaaf",
   "metadata": {},
   "outputs": [],
   "source": [
    "test\n",
    "test.to_excel(\"test_climate.xlsx\",index = True)"
   ]
  },
  {
   "cell_type": "code",
   "execution_count": 85,
   "id": "17cd31cd",
   "metadata": {},
   "outputs": [
    {
     "data": {
      "text/plain": [
       "Ridge(alpha=1)"
      ]
     },
     "execution_count": 85,
     "metadata": {},
     "output_type": "execute_result"
    }
   ],
   "source": [
    "# Once the Ridge model is instantiated, it can be trained on a dataset using the fit method:\n",
    "# The fit method fits the Ridge model to the training data by estimating the coefficients that best fit the data while also minimizing the regularization term.\n",
    "reg.fit(train[input_features] , train[\"target\"])\n",
    "\n"
   ]
  },
  {
   "cell_type": "markdown",
   "id": "6f1c5e38",
   "metadata": {},
   "source": [
    "eg.fit(train[input_features] , train[\"target\"])\n",
    "This line of code is training a machine learning model called reg using a set of training data. The training data is assumed to have a set of input features, which are passed into the fit method as train[input_features], as well as a target variable that the model is being trained to predict, which is passed into the fit method as train[\"target\"].\n",
    "\n",
    "The fit method trains the model by optimizing its internal parameters to minimize the difference between the predicted values and the actual values of the target variable. This process involves minimizing a cost function that measures the error between the predicted and actual values, and may involve a penalty term if the model is using regularization.\n",
    "\n",
    "Once the model has been trained using the training data, it can be used to make predictions on new data that it has not seen before. The effectiveness of the model's predictions can be evaluated using metrics such as mean squared error or R-squared, which measure the accuracy and goodness of fit of the model on the training data."
   ]
  },
  {
   "cell_type": "code",
   "execution_count": 86,
   "id": "29b9660b",
   "metadata": {},
   "outputs": [
    {
     "data": {
      "text/plain": [
       "precip      0\n",
       "temp_avg    0\n",
       "temp_max    0\n",
       "temp_min    0\n",
       "target      0\n",
       "dtype: int64"
      ]
     },
     "execution_count": 86,
     "metadata": {},
     "output_type": "execute_result"
    }
   ],
   "source": [
    "train.isnull().sum()"
   ]
  },
  {
   "cell_type": "code",
   "execution_count": 87,
   "id": "e3ced16f",
   "metadata": {},
   "outputs": [
    {
     "data": {
      "text/html": [
       "<div>\n",
       "<style scoped>\n",
       "    .dataframe tbody tr th:only-of-type {\n",
       "        vertical-align: middle;\n",
       "    }\n",
       "\n",
       "    .dataframe tbody tr th {\n",
       "        vertical-align: top;\n",
       "    }\n",
       "\n",
       "    .dataframe thead th {\n",
       "        text-align: right;\n",
       "    }\n",
       "</style>\n",
       "<table border=\"1\" class=\"dataframe\">\n",
       "  <thead>\n",
       "    <tr style=\"text-align: right;\">\n",
       "      <th></th>\n",
       "      <th>precip</th>\n",
       "      <th>temp_avg</th>\n",
       "      <th>temp_max</th>\n",
       "      <th>temp_min</th>\n",
       "      <th>target</th>\n",
       "    </tr>\n",
       "    <tr>\n",
       "      <th>DATE</th>\n",
       "      <th></th>\n",
       "      <th></th>\n",
       "      <th></th>\n",
       "      <th></th>\n",
       "      <th></th>\n",
       "    </tr>\n",
       "  </thead>\n",
       "  <tbody>\n",
       "    <tr>\n",
       "      <th>2000-01-01</th>\n",
       "      <td>0.0</td>\n",
       "      <td>78.0</td>\n",
       "      <td>93.0</td>\n",
       "      <td>0.0</td>\n",
       "      <td>92.0</td>\n",
       "    </tr>\n",
       "    <tr>\n",
       "      <th>2000-01-02</th>\n",
       "      <td>0.0</td>\n",
       "      <td>79.0</td>\n",
       "      <td>92.0</td>\n",
       "      <td>65.0</td>\n",
       "      <td>92.0</td>\n",
       "    </tr>\n",
       "    <tr>\n",
       "      <th>2000-01-03</th>\n",
       "      <td>0.0</td>\n",
       "      <td>79.0</td>\n",
       "      <td>92.0</td>\n",
       "      <td>65.0</td>\n",
       "      <td>91.0</td>\n",
       "    </tr>\n",
       "    <tr>\n",
       "      <th>2000-01-04</th>\n",
       "      <td>0.0</td>\n",
       "      <td>79.0</td>\n",
       "      <td>91.0</td>\n",
       "      <td>63.0</td>\n",
       "      <td>91.0</td>\n",
       "    </tr>\n",
       "    <tr>\n",
       "      <th>2000-01-05</th>\n",
       "      <td>0.0</td>\n",
       "      <td>79.0</td>\n",
       "      <td>91.0</td>\n",
       "      <td>64.0</td>\n",
       "      <td>91.0</td>\n",
       "    </tr>\n",
       "  </tbody>\n",
       "</table>\n",
       "</div>"
      ],
      "text/plain": [
       "            precip  temp_avg  temp_max  temp_min  target\n",
       "DATE                                                    \n",
       "2000-01-01     0.0      78.0      93.0       0.0    92.0\n",
       "2000-01-02     0.0      79.0      92.0      65.0    92.0\n",
       "2000-01-03     0.0      79.0      92.0      65.0    91.0\n",
       "2000-01-04     0.0      79.0      91.0      63.0    91.0\n",
       "2000-01-05     0.0      79.0      91.0      64.0    91.0"
      ]
     },
     "execution_count": 87,
     "metadata": {},
     "output_type": "execute_result"
    }
   ],
   "source": [
    "# train.loc[0 , 65] = 0\n",
    "# train = train.drop(65,axis = 1)\n",
    "\n",
    "train.head(5)"
   ]
  },
  {
   "cell_type": "code",
   "execution_count": 88,
   "id": "69160cf4",
   "metadata": {},
   "outputs": [
    {
     "data": {
      "text/plain": [
       "precip      float64\n",
       "temp_avg    float64\n",
       "temp_max    float64\n",
       "temp_min    float64\n",
       "target      float64\n",
       "dtype: object"
      ]
     },
     "execution_count": 88,
     "metadata": {},
     "output_type": "execute_result"
    }
   ],
   "source": [
    "train.dtypes"
   ]
  },
  {
   "cell_type": "code",
   "execution_count": 89,
   "id": "d9022122",
   "metadata": {},
   "outputs": [
    {
     "data": {
      "text/html": [
       "<div>\n",
       "<style scoped>\n",
       "    .dataframe tbody tr th:only-of-type {\n",
       "        vertical-align: middle;\n",
       "    }\n",
       "\n",
       "    .dataframe tbody tr th {\n",
       "        vertical-align: top;\n",
       "    }\n",
       "\n",
       "    .dataframe thead th {\n",
       "        text-align: right;\n",
       "    }\n",
       "</style>\n",
       "<table border=\"1\" class=\"dataframe\">\n",
       "  <thead>\n",
       "    <tr style=\"text-align: right;\">\n",
       "      <th></th>\n",
       "      <th>precip</th>\n",
       "      <th>temp_avg</th>\n",
       "      <th>temp_max</th>\n",
       "      <th>temp_min</th>\n",
       "      <th>target</th>\n",
       "    </tr>\n",
       "    <tr>\n",
       "      <th>DATE</th>\n",
       "      <th></th>\n",
       "      <th></th>\n",
       "      <th></th>\n",
       "      <th></th>\n",
       "      <th></th>\n",
       "    </tr>\n",
       "  </thead>\n",
       "  <tbody>\n",
       "    <tr>\n",
       "      <th>2000-01-01</th>\n",
       "      <td>0.0</td>\n",
       "      <td>78.0</td>\n",
       "      <td>93.0</td>\n",
       "      <td>0.0</td>\n",
       "      <td>92.0</td>\n",
       "    </tr>\n",
       "    <tr>\n",
       "      <th>2000-01-02</th>\n",
       "      <td>0.0</td>\n",
       "      <td>79.0</td>\n",
       "      <td>92.0</td>\n",
       "      <td>65.0</td>\n",
       "      <td>92.0</td>\n",
       "    </tr>\n",
       "    <tr>\n",
       "      <th>2000-01-03</th>\n",
       "      <td>0.0</td>\n",
       "      <td>79.0</td>\n",
       "      <td>92.0</td>\n",
       "      <td>65.0</td>\n",
       "      <td>91.0</td>\n",
       "    </tr>\n",
       "    <tr>\n",
       "      <th>2000-01-04</th>\n",
       "      <td>0.0</td>\n",
       "      <td>79.0</td>\n",
       "      <td>91.0</td>\n",
       "      <td>63.0</td>\n",
       "      <td>91.0</td>\n",
       "    </tr>\n",
       "    <tr>\n",
       "      <th>2000-01-05</th>\n",
       "      <td>0.0</td>\n",
       "      <td>79.0</td>\n",
       "      <td>91.0</td>\n",
       "      <td>64.0</td>\n",
       "      <td>91.0</td>\n",
       "    </tr>\n",
       "    <tr>\n",
       "      <th>...</th>\n",
       "      <td>...</td>\n",
       "      <td>...</td>\n",
       "      <td>...</td>\n",
       "      <td>...</td>\n",
       "      <td>...</td>\n",
       "    </tr>\n",
       "    <tr>\n",
       "      <th>2020-12-27</th>\n",
       "      <td>0.0</td>\n",
       "      <td>80.0</td>\n",
       "      <td>94.0</td>\n",
       "      <td>67.0</td>\n",
       "      <td>94.0</td>\n",
       "    </tr>\n",
       "    <tr>\n",
       "      <th>2020-12-28</th>\n",
       "      <td>0.0</td>\n",
       "      <td>75.0</td>\n",
       "      <td>94.0</td>\n",
       "      <td>61.0</td>\n",
       "      <td>94.0</td>\n",
       "    </tr>\n",
       "    <tr>\n",
       "      <th>2020-12-29</th>\n",
       "      <td>0.0</td>\n",
       "      <td>76.0</td>\n",
       "      <td>94.0</td>\n",
       "      <td>59.0</td>\n",
       "      <td>94.0</td>\n",
       "    </tr>\n",
       "    <tr>\n",
       "      <th>2020-12-30</th>\n",
       "      <td>0.0</td>\n",
       "      <td>77.0</td>\n",
       "      <td>94.0</td>\n",
       "      <td>62.0</td>\n",
       "      <td>94.0</td>\n",
       "    </tr>\n",
       "    <tr>\n",
       "      <th>2020-12-31</th>\n",
       "      <td>0.0</td>\n",
       "      <td>81.0</td>\n",
       "      <td>94.0</td>\n",
       "      <td>65.0</td>\n",
       "      <td>94.0</td>\n",
       "    </tr>\n",
       "  </tbody>\n",
       "</table>\n",
       "<p>7671 rows × 5 columns</p>\n",
       "</div>"
      ],
      "text/plain": [
       "            precip  temp_avg  temp_max  temp_min  target\n",
       "DATE                                                    \n",
       "2000-01-01     0.0      78.0      93.0       0.0    92.0\n",
       "2000-01-02     0.0      79.0      92.0      65.0    92.0\n",
       "2000-01-03     0.0      79.0      92.0      65.0    91.0\n",
       "2000-01-04     0.0      79.0      91.0      63.0    91.0\n",
       "2000-01-05     0.0      79.0      91.0      64.0    91.0\n",
       "...            ...       ...       ...       ...     ...\n",
       "2020-12-27     0.0      80.0      94.0      67.0    94.0\n",
       "2020-12-28     0.0      75.0      94.0      61.0    94.0\n",
       "2020-12-29     0.0      76.0      94.0      59.0    94.0\n",
       "2020-12-30     0.0      77.0      94.0      62.0    94.0\n",
       "2020-12-31     0.0      81.0      94.0      65.0    94.0\n",
       "\n",
       "[7671 rows x 5 columns]"
      ]
     },
     "execution_count": 89,
     "metadata": {},
     "output_type": "execute_result"
    }
   ],
   "source": [
    "train"
   ]
  },
  {
   "cell_type": "code",
   "execution_count": 90,
   "id": "6c31c59c",
   "metadata": {},
   "outputs": [
    {
     "data": {
      "text/html": [
       "<div>\n",
       "<style scoped>\n",
       "    .dataframe tbody tr th:only-of-type {\n",
       "        vertical-align: middle;\n",
       "    }\n",
       "\n",
       "    .dataframe tbody tr th {\n",
       "        vertical-align: top;\n",
       "    }\n",
       "\n",
       "    .dataframe thead th {\n",
       "        text-align: right;\n",
       "    }\n",
       "</style>\n",
       "<table border=\"1\" class=\"dataframe\">\n",
       "  <thead>\n",
       "    <tr style=\"text-align: right;\">\n",
       "      <th></th>\n",
       "      <th>precip</th>\n",
       "      <th>temp_avg</th>\n",
       "      <th>temp_max</th>\n",
       "      <th>temp_min</th>\n",
       "      <th>target</th>\n",
       "    </tr>\n",
       "    <tr>\n",
       "      <th>DATE</th>\n",
       "      <th></th>\n",
       "      <th></th>\n",
       "      <th></th>\n",
       "      <th></th>\n",
       "      <th></th>\n",
       "    </tr>\n",
       "  </thead>\n",
       "  <tbody>\n",
       "    <tr>\n",
       "      <th>2021-01-01</th>\n",
       "      <td>0.0</td>\n",
       "      <td>82.0</td>\n",
       "      <td>94.0</td>\n",
       "      <td>69.0</td>\n",
       "      <td>94.0</td>\n",
       "    </tr>\n",
       "    <tr>\n",
       "      <th>2021-01-02</th>\n",
       "      <td>0.0</td>\n",
       "      <td>79.0</td>\n",
       "      <td>94.0</td>\n",
       "      <td>69.0</td>\n",
       "      <td>94.0</td>\n",
       "    </tr>\n",
       "    <tr>\n",
       "      <th>2021-01-03</th>\n",
       "      <td>0.0</td>\n",
       "      <td>77.0</td>\n",
       "      <td>94.0</td>\n",
       "      <td>67.0</td>\n",
       "      <td>94.0</td>\n",
       "    </tr>\n",
       "    <tr>\n",
       "      <th>2021-01-04</th>\n",
       "      <td>0.0</td>\n",
       "      <td>77.0</td>\n",
       "      <td>94.0</td>\n",
       "      <td>69.0</td>\n",
       "      <td>94.0</td>\n",
       "    </tr>\n",
       "    <tr>\n",
       "      <th>2021-01-05</th>\n",
       "      <td>0.0</td>\n",
       "      <td>77.0</td>\n",
       "      <td>94.0</td>\n",
       "      <td>69.0</td>\n",
       "      <td>94.0</td>\n",
       "    </tr>\n",
       "    <tr>\n",
       "      <th>...</th>\n",
       "      <td>...</td>\n",
       "      <td>...</td>\n",
       "      <td>...</td>\n",
       "      <td>...</td>\n",
       "      <td>...</td>\n",
       "    </tr>\n",
       "    <tr>\n",
       "      <th>2022-12-27</th>\n",
       "      <td>0.0</td>\n",
       "      <td>78.0</td>\n",
       "      <td>95.0</td>\n",
       "      <td>63.0</td>\n",
       "      <td>95.0</td>\n",
       "    </tr>\n",
       "    <tr>\n",
       "      <th>2022-12-28</th>\n",
       "      <td>0.0</td>\n",
       "      <td>79.0</td>\n",
       "      <td>95.0</td>\n",
       "      <td>63.0</td>\n",
       "      <td>95.0</td>\n",
       "    </tr>\n",
       "    <tr>\n",
       "      <th>2022-12-29</th>\n",
       "      <td>0.0</td>\n",
       "      <td>81.0</td>\n",
       "      <td>95.0</td>\n",
       "      <td>65.0</td>\n",
       "      <td>95.0</td>\n",
       "    </tr>\n",
       "    <tr>\n",
       "      <th>2022-12-30</th>\n",
       "      <td>0.0</td>\n",
       "      <td>80.0</td>\n",
       "      <td>95.0</td>\n",
       "      <td>65.0</td>\n",
       "      <td>95.0</td>\n",
       "    </tr>\n",
       "    <tr>\n",
       "      <th>2022-12-31</th>\n",
       "      <td>0.0</td>\n",
       "      <td>78.0</td>\n",
       "      <td>95.0</td>\n",
       "      <td>64.0</td>\n",
       "      <td>95.0</td>\n",
       "    </tr>\n",
       "  </tbody>\n",
       "</table>\n",
       "<p>727 rows × 5 columns</p>\n",
       "</div>"
      ],
      "text/plain": [
       "            precip  temp_avg  temp_max  temp_min  target\n",
       "DATE                                                    \n",
       "2021-01-01     0.0      82.0      94.0      69.0    94.0\n",
       "2021-01-02     0.0      79.0      94.0      69.0    94.0\n",
       "2021-01-03     0.0      77.0      94.0      67.0    94.0\n",
       "2021-01-04     0.0      77.0      94.0      69.0    94.0\n",
       "2021-01-05     0.0      77.0      94.0      69.0    94.0\n",
       "...            ...       ...       ...       ...     ...\n",
       "2022-12-27     0.0      78.0      95.0      63.0    95.0\n",
       "2022-12-28     0.0      79.0      95.0      63.0    95.0\n",
       "2022-12-29     0.0      81.0      95.0      65.0    95.0\n",
       "2022-12-30     0.0      80.0      95.0      65.0    95.0\n",
       "2022-12-31     0.0      78.0      95.0      64.0    95.0\n",
       "\n",
       "[727 rows x 5 columns]"
      ]
     },
     "execution_count": 90,
     "metadata": {},
     "output_type": "execute_result"
    }
   ],
   "source": [
    "test"
   ]
  },
  {
   "cell_type": "code",
   "execution_count": 91,
   "id": "3042210c",
   "metadata": {},
   "outputs": [
    {
     "data": {
      "text/plain": [
       "precip      0\n",
       "temp_avg    0\n",
       "temp_max    0\n",
       "temp_min    0\n",
       "target      0\n",
       "dtype: int64"
      ]
     },
     "execution_count": 91,
     "metadata": {},
     "output_type": "execute_result"
    }
   ],
   "source": [
    "train.isnull().sum()"
   ]
  },
  {
   "cell_type": "code",
   "execution_count": 92,
   "id": "7a916573",
   "metadata": {},
   "outputs": [
    {
     "name": "stderr",
     "output_type": "stream",
     "text": [
      "C:\\Users\\HP\\AppData\\Local\\Temp\\ipykernel_18928\\3348956822.py:2: SettingWithCopyWarning: \n",
      "A value is trying to be set on a copy of a slice from a DataFrame\n",
      "\n",
      "See the caveats in the documentation: https://pandas.pydata.org/pandas-docs/stable/user_guide/indexing.html#returning-a-view-versus-a-copy\n",
      "  train.fillna(0,inplace = True)\n"
     ]
    }
   ],
   "source": [
    "# train = train.drop([1,0], axis = 0)\n",
    "train.fillna(0,inplace = True)"
   ]
  },
  {
   "cell_type": "code",
   "execution_count": 93,
   "id": "ce89807b",
   "metadata": {},
   "outputs": [
    {
     "data": {
      "text/html": [
       "<div>\n",
       "<style scoped>\n",
       "    .dataframe tbody tr th:only-of-type {\n",
       "        vertical-align: middle;\n",
       "    }\n",
       "\n",
       "    .dataframe tbody tr th {\n",
       "        vertical-align: top;\n",
       "    }\n",
       "\n",
       "    .dataframe thead th {\n",
       "        text-align: right;\n",
       "    }\n",
       "</style>\n",
       "<table border=\"1\" class=\"dataframe\">\n",
       "  <thead>\n",
       "    <tr style=\"text-align: right;\">\n",
       "      <th></th>\n",
       "      <th>precip</th>\n",
       "      <th>temp_avg</th>\n",
       "      <th>temp_max</th>\n",
       "      <th>temp_min</th>\n",
       "      <th>target</th>\n",
       "    </tr>\n",
       "    <tr>\n",
       "      <th>DATE</th>\n",
       "      <th></th>\n",
       "      <th></th>\n",
       "      <th></th>\n",
       "      <th></th>\n",
       "      <th></th>\n",
       "    </tr>\n",
       "  </thead>\n",
       "  <tbody>\n",
       "    <tr>\n",
       "      <th>2000-01-01</th>\n",
       "      <td>0.0</td>\n",
       "      <td>78.0</td>\n",
       "      <td>93.0</td>\n",
       "      <td>0.0</td>\n",
       "      <td>92.0</td>\n",
       "    </tr>\n",
       "    <tr>\n",
       "      <th>2000-01-02</th>\n",
       "      <td>0.0</td>\n",
       "      <td>79.0</td>\n",
       "      <td>92.0</td>\n",
       "      <td>65.0</td>\n",
       "      <td>92.0</td>\n",
       "    </tr>\n",
       "    <tr>\n",
       "      <th>2000-01-03</th>\n",
       "      <td>0.0</td>\n",
       "      <td>79.0</td>\n",
       "      <td>92.0</td>\n",
       "      <td>65.0</td>\n",
       "      <td>91.0</td>\n",
       "    </tr>\n",
       "    <tr>\n",
       "      <th>2000-01-04</th>\n",
       "      <td>0.0</td>\n",
       "      <td>79.0</td>\n",
       "      <td>91.0</td>\n",
       "      <td>63.0</td>\n",
       "      <td>91.0</td>\n",
       "    </tr>\n",
       "    <tr>\n",
       "      <th>2000-01-05</th>\n",
       "      <td>0.0</td>\n",
       "      <td>79.0</td>\n",
       "      <td>91.0</td>\n",
       "      <td>64.0</td>\n",
       "      <td>91.0</td>\n",
       "    </tr>\n",
       "  </tbody>\n",
       "</table>\n",
       "</div>"
      ],
      "text/plain": [
       "            precip  temp_avg  temp_max  temp_min  target\n",
       "DATE                                                    \n",
       "2000-01-01     0.0      78.0      93.0       0.0    92.0\n",
       "2000-01-02     0.0      79.0      92.0      65.0    92.0\n",
       "2000-01-03     0.0      79.0      92.0      65.0    91.0\n",
       "2000-01-04     0.0      79.0      91.0      63.0    91.0\n",
       "2000-01-05     0.0      79.0      91.0      64.0    91.0"
      ]
     },
     "execution_count": 93,
     "metadata": {},
     "output_type": "execute_result"
    }
   ],
   "source": [
    "train.head(5)"
   ]
  },
  {
   "cell_type": "code",
   "execution_count": 94,
   "id": "cfac25b5",
   "metadata": {},
   "outputs": [
    {
     "data": {
      "text/plain": [
       "precip      float64\n",
       "temp_avg    float64\n",
       "temp_max    float64\n",
       "temp_min    float64\n",
       "target      float64\n",
       "dtype: object"
      ]
     },
     "execution_count": 94,
     "metadata": {},
     "output_type": "execute_result"
    }
   ],
   "source": [
    "train.dtypes"
   ]
  },
  {
   "cell_type": "code",
   "execution_count": 95,
   "id": "bdca9109",
   "metadata": {},
   "outputs": [
    {
     "data": {
      "text/plain": [
       "precip      0\n",
       "temp_avg    0\n",
       "temp_max    0\n",
       "temp_min    0\n",
       "target      0\n",
       "dtype: int64"
      ]
     },
     "execution_count": 95,
     "metadata": {},
     "output_type": "execute_result"
    }
   ],
   "source": [
    "train.isnull().sum()"
   ]
  },
  {
   "cell_type": "code",
   "execution_count": 96,
   "id": "af2c3d17",
   "metadata": {},
   "outputs": [
    {
     "data": {
      "text/plain": [
       "Ridge(alpha=1)"
      ]
     },
     "execution_count": 96,
     "metadata": {},
     "output_type": "execute_result"
    }
   ],
   "source": [
    "reg.fit(train[input_features] , train[\"target\"])"
   ]
  },
  {
   "cell_type": "code",
   "execution_count": 98,
   "id": "706eb7d0",
   "metadata": {},
   "outputs": [],
   "source": [
    "predictions = reg.predict(test[input_features])"
   ]
  },
  {
   "cell_type": "markdown",
   "id": "18fa1dee",
   "metadata": {},
   "source": [
    "eg.predict(test[input_features]) is a method call that predicts the target variable values for the test dataset using the trained model."
   ]
  },
  {
   "cell_type": "code",
   "execution_count": 99,
   "id": "1c4eecad",
   "metadata": {},
   "outputs": [
    {
     "data": {
      "text/plain": [
       "array([93.52946846, 93.16990757, 93.02359669, 92.93020031, 92.93020031,\n",
       "       93.09675213, 93.45631302, 85.12702688, 85.29382922, 85.53353648,\n",
       "       85.65339011, 85.81994193, 85.7000883 , 85.40746653, 85.16775927,\n",
       "       85.44794839, 85.42770746, 85.40746653, 85.62071653, 85.5008629 ,\n",
       "       87.68655169, 87.89980169, 87.87956076, 87.77994806, 87.58693899,\n",
       "       87.51378355, 87.56048173, 87.60717992, 87.72703355, 87.99319807,\n",
       "       87.89980169, 88.11926802, 88.19242346, 88.04611258, 87.92625895,\n",
       "       87.83286257, 88.30606077, 88.30606077, 88.09281077, 88.09281077,\n",
       "       87.94649988, 87.94649988, 87.83286257, 87.54645713, 87.37990531,\n",
       "       87.54645713, 87.7394662 , 87.88552656, 87.93247527, 88.24533798,\n",
       "       88.24533798, 88.48504524, 88.24533798, 88.00563072, 88.21888072,\n",
       "       88.57844161, 88.36519161, 88.45858798, 88.33873435, 88.57844161,\n",
       "       88.45858798, 87.91223434, 88.38543254, 88.31227709, 88.31849342,\n",
       "       88.07878616, 87.95893253, 88.24533798, 88.43834705, 88.4648043 ,\n",
       "       88.4648043 , 88.55820068, 88.55820068, 88.13170067, 88.07878616,\n",
       "       87.77213978, 88.07878616, 88.1519416 , 88.43834705, 88.53795975,\n",
       "       88.91776157, 88.79790794, 89.0376152 , 88.10524341, 87.96514885,\n",
       "       87.91223434, 88.00563072, 87.79859704, 87.81883797, 87.86553615,\n",
       "       87.89199341, 87.96514885, 88.51150249, 88.29825249, 87.89199341,\n",
       "       88.05854523, 88.05854523, 88.29825249, 88.27801156, 88.23131337,\n",
       "       88.06476155, 88.15815793, 88.05854523, 88.17839886, 88.27801156,\n",
       "       87.94490792, 88.0383043 , 87.91845067, 88.15815793, 88.2515543 ,\n",
       "       88.10524341, 88.39786519, 87.97136518, 88.13791699, 88.06476155,\n",
       "       88.06476155, 87.89820973, 88.09121881, 88.01806336, 88.18461518,\n",
       "       88.30446881, 88.18461518, 88.06476155, 88.13791699, 88.13791699,\n",
       "       88.13791699, 88.13791699, 88.01806336, 88.01806336, 87.97136518,\n",
       "       88.18461518, 88.54417607, 88.53916548, 87.21401124, 87.75840986,\n",
       "       87.76612707, 88.12969643, 88.06476155, 87.97136518, 88.09096828,\n",
       "       88.09121881, 87.97136518, 87.92466699, 87.9239154 , 87.99782243,\n",
       "       88.04452062, 88.04452062, 87.68495973, 87.68495973, 91.8829471 ,\n",
       "       92.12265436, 92.00280073, 91.88269657, 92.00725829, 91.71985072,\n",
       "       91.50259224, 91.1047003 , 91.24274019, 91.36499869, 91.61678258,\n",
       "       91.78955072, 91.97855132, 91.50214316, 91.2574253 , 91.23287339,\n",
       "       91.89442025, 91.76654891, 91.86916796, 91.95354527, 91.95209406,\n",
       "       91.85669345, 91.66092855, 91.19003204, 92.02294276, 91.45023076,\n",
       "       91.67014618, 91.76309347, 91.66919603, 91.95109194, 91.81575745,\n",
       "       91.98055556, 91.98255979, 91.98255979, 91.98255979, 92.01147037,\n",
       "       91.54884134, 91.66473418, 91.58922431, 91.67315253, 91.40052622,\n",
       "       91.27601219, 91.38178418, 89.13591981, 88.96209987, 89.16082191,\n",
       "       89.12619837, 89.12224033, 89.34681615, 89.21453493, 89.2074212 ,\n",
       "       89.24575225, 89.33168471, 89.31590134, 89.28699076, 89.33368895,\n",
       "       89.34415922, 89.25852926, 89.28699076, 89.28799288, 89.2128332 ,\n",
       "       89.30522745, 89.30522745, 89.24575225, 89.38038713, 89.24430105,\n",
       "       89.29049817, 89.38138925, 89.43059274, 89.2907487 , 89.29099923,\n",
       "       89.22831406, 89.24976072, 89.10745831, 88.94736829, 88.89465739,\n",
       "       89.04307141, 88.71642957, 88.85642524, 88.83127261, 88.80070799,\n",
       "       89.15315438, 89.40463654, 89.4310938 , 89.31124016, 89.30923593,\n",
       "       89.38239137, 89.49923864, 89.38439561, 89.02408313, 88.92356797,\n",
       "       89.01175596, 89.18537382, 88.94190862, 88.99171282, 89.1957452 ,\n",
       "       89.18537382, 89.04206929, 89.08701454, 89.34015074, 89.25577344,\n",
       "       89.06176225, 89.05073894, 89.15280496, 89.09398169, 89.30823381,\n",
       "       89.26253774, 89.30823381, 89.26454198, 89.14368623, 89.1679364 ,\n",
       "       88.99136263, 89.22666002, 89.354932  , 89.26404092, 89.31124016,\n",
       "       89.06176225, 89.04206929, 89.00649407, 89.23808472, 89.21152857,\n",
       "       89.47779198, 89.50424924, 89.67080106, 89.69725831, 89.57740468,\n",
       "       89.55094743, 89.7571826 , 89.50424924, 89.38414508, 89.35768782,\n",
       "       89.35693623, 89.52248593, 89.79065469, 89.86381013, 90.07706013,\n",
       "       89.97744743, 89.6443438 , 89.6443438 , 89.52449017, 89.57118836,\n",
       "       89.78443836, 89.8575938 , 89.6443438 , 89.49803291, 89.49803291,\n",
       "       89.69104199, 89.90429199, 89.93074925, 89.71749924, 89.81089562,\n",
       "       89.76419743, 89.81089562, 89.93074925, 89.83735287, 89.79065469,\n",
       "       89.79065469, 89.38439561, 89.55094743, 89.57118836, 89.85137748,\n",
       "       89.71128292, 89.85137748, 89.87783474, 89.95099018, 89.83735287,\n",
       "       89.83735287, 89.98366376, 89.41085286, 89.4310938 , 89.69104199,\n",
       "       89.91050832, 89.4310938 , 89.38008463, 89.55094743, 89.69725831,\n",
       "       89.79065469, 89.81089562, 89.73774017, 89.49803291, 89.85137748,\n",
       "       89.52449017, 87.96589192, 88.7032461 , 89.22785992, 89.18517021,\n",
       "       89.18517021, 89.39842022, 89.5447311 , 89.45133473, 89.5447311 ,\n",
       "       89.5447311 , 89.49803291, 89.59142929, 89.35172203, 89.3455057 ,\n",
       "       89.17895389, 89.22565207, 89.17895389, 89.41866115, 89.25210933,\n",
       "       89.29880752, 89.27235026, 89.27235026, 89.19919482, 89.032643  ,\n",
       "       89.032643  , 89.19919482, 89.27235026, 89.22565207, 89.24589301,\n",
       "       89.05910026, 89.2318684 , 89.32526477, 89.4451184 , 89.35172203,\n",
       "       89.39842022, 89.2318684 , 89.03885933, 89.08555751, 88.75245388,\n",
       "       88.26903088, 88.73380491, 88.78671942, 88.88011579, 88.97972849,\n",
       "       88.91278937, 89.15249663, 89.46535933, 89.2318684 , 89.25210933,\n",
       "       89.31904845, 89.24589301, 89.032643  , 89.01240207, 88.29328029,\n",
       "       88.35400308, 88.85365854, 89.07312486, 89.12603938, 89.22565207,\n",
       "       89.31904845, 89.41244482, 89.24589301, 89.31283212, 89.00618575,\n",
       "       89.12603938, 88.95948756, 89.14628031, 89.29259119, 88.819393  ,\n",
       "       88.95948756, 88.95948756, 89.41244482, 89.49181659, 89.46535933,\n",
       "       89.3455057 , 89.51205752, 89.032643  , 88.86609118, 89.032643  ,\n",
       "       89.27235026, 89.39220389, 89.55875571, 89.48560027, 89.36574664,\n",
       "       89.46535933, 89.56497203, 89.53851478, 89.70506659, 89.65836841,\n",
       "       89.70506659, 89.61167022, 89.92453292, 89.78443836, 89.99768837,\n",
       "       89.87783474, 89.90429199, 89.73774017, 89.7439565 , 89.79065469,\n",
       "       89.93074925, 90.05060288, 89.93074925, 90.38370651, 90.50356014,\n",
       "       90.45686195, 90.41016377, 90.07706013, 89.9572065 , 89.57118836,\n",
       "       89.3314811 , 89.61788654, 89.83735287, 90.26385288, 89.62410287,\n",
       "       89.69104199, 89.4310938 , 89.52449017, 89.6443438 , 89.97744743,\n",
       "       89.73774017, 89.49803291, 89.73152385, 89.45133473, 89.69104199,\n",
       "       89.59764561, 89.41085286, 89.36415468, 89.59764561, 89.62410287,\n",
       "       89.65056012, 89.53070649, 89.7439565 , 89.88405106, 90.12375832,\n",
       "       89.57740468, 89.57740468, 92.02304166, 92.76924276, 92.02304166,\n",
       "       91.136746  , 93.94816019, 94.26102289, 98.13212295, 97.67916568,\n",
       "       97.48615661, 98.24576025, 94.62120585, 98.27221751, 97.91265662,\n",
       "       93.54811744, 94.5480504 , 93.75515112, 93.52166018, 93.688212  ,\n",
       "       93.70845293, 93.61505655, 93.61505655, 92.91555364, 94.62120585,\n",
       "       91.98255979, 91.88916342, 92.77545908, 93.47496199, 94.26786128,\n",
       "       93.52166018, 93.59481562, 93.688212  , 93.52166018, 93.52166018,\n",
       "       91.98255979, 91.84246523, 93.47496199, 93.59431456, 93.54811744,\n",
       "       93.50141925, 93.54811744, 93.59481562, 93.54811744, 94.34101672,\n",
       "       93.50141925, 93.54811744, 93.54811744, 92.63536452, 93.42826381,\n",
       "       92.68206271, 92.80191634, 92.84861452, 94.38771491, 93.59481562,\n",
       "       94.41417216, 94.05461127, 93.62051623, 91.64960274, 90.99409416,\n",
       "       93.49520292, 93.70544657, 93.5885993 , 91.8711722 , 92.62513972,\n",
       "       93.51444174, 88.21615206, 85.76730511, 87.54355549, 90.83455718,\n",
       "       90.96518359, 91.56607592, 91.77421643, 90.77693458, 90.05243067,\n",
       "       85.00587368, 87.50041669, 86.99244178, 87.04695484, 89.4210214 ,\n",
       "       90.16251364, 89.84363822, 89.50246643, 89.55317386, 89.74117157,\n",
       "       90.11050235, 85.29503495, 85.96432266, 85.84446903, 85.93220288,\n",
       "       85.73573837, 85.85293583, 85.83980863, 86.01978939, 86.13964302,\n",
       "       85.96432266, 86.01978939, 87.48573433, 87.55888978, 87.63204522,\n",
       "       88.4666321 , 87.67172857, 86.92552747, 88.39648301, 85.93285481,\n",
       "       88.54624934, 89.45755105, 89.45755105, 89.45755105, 89.38138925,\n",
       "       89.42032102, 89.30247163, 87.53909793, 86.62158495, 88.37393534,\n",
       "       88.14299662, 84.20741076, 84.11872325, 84.20440441, 85.98922477,\n",
       "       85.91707144, 87.58379188, 87.59481518, 85.79476449, 85.67891933,\n",
       "       86.63671639, 87.64051125, 87.55287706, 87.51063643, 87.55387918,\n",
       "       86.71528383, 89.97251092, 87.42926549, 87.55588342, 87.67874341,\n",
       "       88.51834088, 89.35793835, 88.56303483, 89.43084327, 90.22399308,\n",
       "       90.3076188 , 92.67584638, 91.08804357, 88.47234307, 89.33268683,\n",
       "       89.38439561, 90.05643915, 90.00542998, 89.22265154, 89.30347374,\n",
       "       89.34916981, 87.65028191, 87.32088501, 86.79089259, 86.62434077,\n",
       "       86.58109803, 86.73953323, 86.42667053, 86.45658323, 86.50127718,\n",
       "       86.35351509, 86.11380783, 86.80647235, 86.78623142, 86.90608505,\n",
       "       86.73953323, 86.85938686, 86.97924049, 86.88584412, 87.12555138,\n",
       "       87.00569775, 87.05239594, 86.97924049, 87.14579231, 86.95899956,\n",
       "       86.79244774, 86.43188474, 86.52743269, 86.97723626, 86.97924049,\n",
       "       86.76599049, 90.03098401, 89.11823109, 89.11823109, 89.78443836,\n",
       "       90.05060288, 89.81089562, 89.21784379, 89.38439561, 89.45755105,\n",
       "       89.50424924, 89.38439561, 89.80467929, 89.68482566, 89.68482566,\n",
       "       89.92453292, 89.85137748, 89.59142929, 89.80467929, 89.80467929,\n",
       "       89.68482566, 89.68482566, 89.63812748, 89.85137748, 89.80467929,\n",
       "       89.85137748, 90.0179293 , 89.68482566, 89.83113655, 89.83113655,\n",
       "       89.5447311 , 94.51537682, 94.54183408, 94.4484377 , 94.39552319,\n",
       "       94.46867864, 94.34882501, 94.44222138, 94.18227319, 94.20251412,\n",
       "       94.00950505, 94.12314235, 94.36284961, 94.36906594, 94.53561775,\n",
       "       94.56207501, 94.49513589, 94.42198045, 94.36906594, 94.36284961,\n",
       "       94.36906594, 94.32236775, 94.34260868, 94.53561775, 94.42198045,\n",
       "       94.49513589, 94.4484377 , 94.25542863, 94.39552319, 94.14959961,\n",
       "       94.4095478 , 94.55585869, 94.54183408, 94.38149858, 94.38149858,\n",
       "       94.2351877 , 94.61498952, 94.56829133, 94.56829133, 94.54183408,\n",
       "       94.44222138, 94.53561775, 94.36906594, 94.00950505, 93.97683147,\n",
       "       93.95037421, 93.85697784, 94.12314235, 94.24299598, 94.38930687,\n",
       "       94.26945324, 94.07644417])"
      ]
     },
     "execution_count": 99,
     "metadata": {},
     "output_type": "execute_result"
    }
   ],
   "source": [
    "predictions"
   ]
  },
  {
   "cell_type": "code",
   "execution_count": 102,
   "id": "8a7c881a",
   "metadata": {},
   "outputs": [],
   "source": [
    "from sklearn.metrics  import mean_absolute_error\n",
    "\n",
    "# . It measures the average absolute difference between the actual and predicted values of the target variable.\n",
    "# MAE is a non-negative value, with lower values indicating better performance."
   ]
  },
  {
   "cell_type": "code",
   "execution_count": 103,
   "id": "d88ea083",
   "metadata": {},
   "outputs": [
    {
     "data": {
      "text/plain": [
       "0.7911608822890713"
      ]
     },
     "execution_count": 103,
     "metadata": {},
     "output_type": "execute_result"
    }
   ],
   "source": [
    "mean_absolute_error(test[\"target\"]  , predictions)"
   ]
  },
  {
   "cell_type": "markdown",
   "id": "938e7e28",
   "metadata": {},
   "source": [
    "Mean squared error (MSE) is a measure of the average squared difference between the predicted values and the actual values. It is commonly used as a performance metric in regression analysis to evaluate how well a model fits the data.\n",
    "MSE = (1/n) * Σ(yi - ŷi)^2\n",
    "\n",
    "where n is the number of data points, yi is the actual value of the dependent variable, ŷi is the predicted value of the dependent variable, and Σ denotes the sum over all data points.\n",
    "The lower the MSE, the better the model is at predicting the actual values. "
   ]
  },
  {
   "cell_type": "markdown",
   "id": "79760491",
   "metadata": {},
   "source": [
    "# So the value of MAE  is very small that indicates that our model has better performance "
   ]
  },
  {
   "cell_type": "markdown",
   "id": "8961288f",
   "metadata": {},
   "source": [
    "# Evaluating the model"
   ]
  },
  {
   "cell_type": "markdown",
   "id": "2657b095",
   "metadata": {},
   "source": [
    "combine the actual and predict values to compare the difference "
   ]
  },
  {
   "cell_type": "code",
   "execution_count": 104,
   "id": "149fe934",
   "metadata": {},
   "outputs": [],
   "source": [
    "combined =pd.concat ([test[\"target\"] , pd.Series(predictions , index = test.index)] , axis =1 )"
   ]
  },
  {
   "cell_type": "code",
   "execution_count": null,
   "id": "7299f259",
   "metadata": {},
   "outputs": [],
   "source": []
  },
  {
   "cell_type": "code",
   "execution_count": 105,
   "id": "073f4e7c",
   "metadata": {},
   "outputs": [
    {
     "data": {
      "text/html": [
       "<div>\n",
       "<style scoped>\n",
       "    .dataframe tbody tr th:only-of-type {\n",
       "        vertical-align: middle;\n",
       "    }\n",
       "\n",
       "    .dataframe tbody tr th {\n",
       "        vertical-align: top;\n",
       "    }\n",
       "\n",
       "    .dataframe thead th {\n",
       "        text-align: right;\n",
       "    }\n",
       "</style>\n",
       "<table border=\"1\" class=\"dataframe\">\n",
       "  <thead>\n",
       "    <tr style=\"text-align: right;\">\n",
       "      <th></th>\n",
       "      <th>actual</th>\n",
       "      <th>predictions</th>\n",
       "    </tr>\n",
       "    <tr>\n",
       "      <th>DATE</th>\n",
       "      <th></th>\n",
       "      <th></th>\n",
       "    </tr>\n",
       "  </thead>\n",
       "  <tbody>\n",
       "    <tr>\n",
       "      <th>2021-01-01</th>\n",
       "      <td>94.0</td>\n",
       "      <td>93.529468</td>\n",
       "    </tr>\n",
       "    <tr>\n",
       "      <th>2021-01-02</th>\n",
       "      <td>94.0</td>\n",
       "      <td>93.169908</td>\n",
       "    </tr>\n",
       "    <tr>\n",
       "      <th>2021-01-03</th>\n",
       "      <td>94.0</td>\n",
       "      <td>93.023597</td>\n",
       "    </tr>\n",
       "    <tr>\n",
       "      <th>2021-01-04</th>\n",
       "      <td>94.0</td>\n",
       "      <td>92.930200</td>\n",
       "    </tr>\n",
       "    <tr>\n",
       "      <th>2021-01-05</th>\n",
       "      <td>94.0</td>\n",
       "      <td>92.930200</td>\n",
       "    </tr>\n",
       "    <tr>\n",
       "      <th>...</th>\n",
       "      <td>...</td>\n",
       "      <td>...</td>\n",
       "    </tr>\n",
       "    <tr>\n",
       "      <th>2022-12-27</th>\n",
       "      <td>95.0</td>\n",
       "      <td>94.123142</td>\n",
       "    </tr>\n",
       "    <tr>\n",
       "      <th>2022-12-28</th>\n",
       "      <td>95.0</td>\n",
       "      <td>94.242996</td>\n",
       "    </tr>\n",
       "    <tr>\n",
       "      <th>2022-12-29</th>\n",
       "      <td>95.0</td>\n",
       "      <td>94.389307</td>\n",
       "    </tr>\n",
       "    <tr>\n",
       "      <th>2022-12-30</th>\n",
       "      <td>95.0</td>\n",
       "      <td>94.269453</td>\n",
       "    </tr>\n",
       "    <tr>\n",
       "      <th>2022-12-31</th>\n",
       "      <td>95.0</td>\n",
       "      <td>94.076444</td>\n",
       "    </tr>\n",
       "  </tbody>\n",
       "</table>\n",
       "<p>727 rows × 2 columns</p>\n",
       "</div>"
      ],
      "text/plain": [
       "            actual  predictions\n",
       "DATE                           \n",
       "2021-01-01    94.0    93.529468\n",
       "2021-01-02    94.0    93.169908\n",
       "2021-01-03    94.0    93.023597\n",
       "2021-01-04    94.0    92.930200\n",
       "2021-01-05    94.0    92.930200\n",
       "...            ...          ...\n",
       "2022-12-27    95.0    94.123142\n",
       "2022-12-28    95.0    94.242996\n",
       "2022-12-29    95.0    94.389307\n",
       "2022-12-30    95.0    94.269453\n",
       "2022-12-31    95.0    94.076444\n",
       "\n",
       "[727 rows x 2 columns]"
      ]
     },
     "execution_count": 105,
     "metadata": {},
     "output_type": "execute_result"
    }
   ],
   "source": [
    "combined.columns = [\"actual\" , \"predictions\"]\n",
    "combined"
   ]
  },
  {
   "cell_type": "markdown",
   "id": "ca9bffa1",
   "metadata": {},
   "source": [
    "actual value is much closer to predicted value that indicates that our model had good performace "
   ]
  },
  {
   "cell_type": "code",
   "execution_count": 106,
   "id": "01d3b258",
   "metadata": {},
   "outputs": [
    {
     "data": {
      "image/png": "[encoded data removed]",
      "text/plain": [
       "<Figure size 432x288 with 1 Axes>"
      ]
     },
     "metadata": {
      "needs_background": "light"
     },
     "output_type": "display_data"
    }
   ],
   "source": [
    "com1 = combined.plot(kind = \"hist\")"
   ]
  },
  {
   "cell_type": "code",
   "execution_count": 108,
   "id": "fa529178",
   "metadata": {},
   "outputs": [
    {
     "data": {
      "text/plain": [
       "array([-0.02505297,  0.79289929,  0.11985363, -0.04669819])"
      ]
     },
     "execution_count": 108,
     "metadata": {},
     "output_type": "execute_result"
    }
   ],
   "source": [
    "reg.coef_"
   ]
  },
  {
   "cell_type": "markdown",
   "id": "c910fdff",
   "metadata": {},
   "source": [
    "reg.coef_ is an attribute of a linear regression model object in scikit-learn that returns an array of the estimated coefficients of the linear regression equation.\n",
    "\n",
    "In linear regression, the goal is to fit a line to a set of data points that minimizes the difference between the predicted values of the line and the actual values of the data points. The line is represented by the equation:"
   ]
  },
  {
   "cell_type": "markdown",
   "id": "c3bf041b",
   "metadata": {},
   "source": [
    "# Creating a function to make predictions \n"
   ]
  },
  {
   "cell_type": "code",
   "execution_count": 109,
   "id": "a2a26f66",
   "metadata": {},
   "outputs": [],
   "source": [
    "def create_predictions(input_features ,core_attributes , reg ):\n",
    "    train = core_attributes.loc[:\"2020-12-31\"]\n",
    "    test = core_attributes.loc[\"2021-01-01\":]\n",
    "    reg.fit(train[input_features] , train[\"target\"])\n",
    "    predictions = reg.predict(test[input_features])\n",
    "    \n",
    "    error = mean_absolute_error(test[\"target\"]  , predictions)\n",
    "    \n",
    "    combined =pd.concat ([test[\"target\"] , pd.Series(predictions , index = test.index)] , axis =1 )\n",
    "    combined.columns = [\"actual\" ,\"predictions\"]\n",
    "    return error , combined\n",
    "    \n",
    "    \n",
    "   \n",
    "    "
   ]
  },
  {
   "cell_type": "code",
   "execution_count": 110,
   "id": "46547cf3",
   "metadata": {},
   "outputs": [
    {
     "data": {
      "text/plain": [
       "(0.7911608822890713,\n",
       "             actual  predictions\n",
       " DATE                           \n",
       " 2021-01-01    94.0    93.529468\n",
       " 2021-01-02    94.0    93.169908\n",
       " 2021-01-03    94.0    93.023597\n",
       " 2021-01-04    94.0    92.930200\n",
       " 2021-01-05    94.0    92.930200\n",
       " ...            ...          ...\n",
       " 2022-12-27    95.0    94.123142\n",
       " 2022-12-28    95.0    94.242996\n",
       " 2022-12-29    95.0    94.389307\n",
       " 2022-12-30    95.0    94.269453\n",
       " 2022-12-31    95.0    94.076444\n",
       " \n",
       " [727 rows x 2 columns])"
      ]
     },
     "execution_count": 110,
     "metadata": {},
     "output_type": "execute_result"
    }
   ],
   "source": [
    "create_predictions(input_features ,core_attributes , reg )"
   ]
  },
  {
   "cell_type": "markdown",
   "id": "e3582794",
   "metadata": {},
   "source": [
    "Using rolling method \n",
    "\n",
    "\n",
    "The rolling method in Pandas is used to apply a rolling computation to a Pandas Series or DataFrame. The rolling computation involves applying a function (such as mean, sum, std, etc.) to a moving window of a specified size along the data. This allows you to calculate rolling statistics over time series data, or any other data where a rolling computation is appropriate."
   ]
  },
  {
   "cell_type": "markdown",
   "id": "509a2ac3",
   "metadata": {},
   "source": [
    "Find the average temperature these month"
   ]
  },
  {
   "cell_type": "code",
   "execution_count": 111,
   "id": "6090ed05",
   "metadata": {},
   "outputs": [],
   "source": [
    "core_attributes[\"month_max\"]  = core_attributes[\"temp_max\"].rolling(31).mean()"
   ]
  },
  {
   "cell_type": "code",
   "execution_count": 112,
   "id": "d82c5923",
   "metadata": {},
   "outputs": [
    {
     "data": {
      "text/html": [
       "<div>\n",
       "<style scoped>\n",
       "    .dataframe tbody tr th:only-of-type {\n",
       "        vertical-align: middle;\n",
       "    }\n",
       "\n",
       "    .dataframe tbody tr th {\n",
       "        vertical-align: top;\n",
       "    }\n",
       "\n",
       "    .dataframe thead th {\n",
       "        text-align: right;\n",
       "    }\n",
       "</style>\n",
       "<table border=\"1\" class=\"dataframe\">\n",
       "  <thead>\n",
       "    <tr style=\"text-align: right;\">\n",
       "      <th></th>\n",
       "      <th>precip</th>\n",
       "      <th>temp_avg</th>\n",
       "      <th>temp_max</th>\n",
       "      <th>temp_min</th>\n",
       "      <th>target</th>\n",
       "      <th>month_max</th>\n",
       "    </tr>\n",
       "    <tr>\n",
       "      <th>DATE</th>\n",
       "      <th></th>\n",
       "      <th></th>\n",
       "      <th></th>\n",
       "      <th></th>\n",
       "      <th></th>\n",
       "      <th></th>\n",
       "    </tr>\n",
       "  </thead>\n",
       "  <tbody>\n",
       "    <tr>\n",
       "      <th>2000-01-01</th>\n",
       "      <td>0.0</td>\n",
       "      <td>78.0</td>\n",
       "      <td>93.0</td>\n",
       "      <td>0.0</td>\n",
       "      <td>92.0</td>\n",
       "      <td>NaN</td>\n",
       "    </tr>\n",
       "    <tr>\n",
       "      <th>2000-01-02</th>\n",
       "      <td>0.0</td>\n",
       "      <td>79.0</td>\n",
       "      <td>92.0</td>\n",
       "      <td>65.0</td>\n",
       "      <td>92.0</td>\n",
       "      <td>NaN</td>\n",
       "    </tr>\n",
       "    <tr>\n",
       "      <th>2000-01-03</th>\n",
       "      <td>0.0</td>\n",
       "      <td>79.0</td>\n",
       "      <td>92.0</td>\n",
       "      <td>65.0</td>\n",
       "      <td>91.0</td>\n",
       "      <td>NaN</td>\n",
       "    </tr>\n",
       "    <tr>\n",
       "      <th>2000-01-04</th>\n",
       "      <td>0.0</td>\n",
       "      <td>79.0</td>\n",
       "      <td>91.0</td>\n",
       "      <td>63.0</td>\n",
       "      <td>91.0</td>\n",
       "      <td>NaN</td>\n",
       "    </tr>\n",
       "    <tr>\n",
       "      <th>2000-01-05</th>\n",
       "      <td>0.0</td>\n",
       "      <td>79.0</td>\n",
       "      <td>91.0</td>\n",
       "      <td>64.0</td>\n",
       "      <td>91.0</td>\n",
       "      <td>NaN</td>\n",
       "    </tr>\n",
       "    <tr>\n",
       "      <th>...</th>\n",
       "      <td>...</td>\n",
       "      <td>...</td>\n",
       "      <td>...</td>\n",
       "      <td>...</td>\n",
       "      <td>...</td>\n",
       "      <td>...</td>\n",
       "    </tr>\n",
       "    <tr>\n",
       "      <th>2022-12-27</th>\n",
       "      <td>0.0</td>\n",
       "      <td>78.0</td>\n",
       "      <td>95.0</td>\n",
       "      <td>63.0</td>\n",
       "      <td>95.0</td>\n",
       "      <td>95.0</td>\n",
       "    </tr>\n",
       "    <tr>\n",
       "      <th>2022-12-28</th>\n",
       "      <td>0.0</td>\n",
       "      <td>79.0</td>\n",
       "      <td>95.0</td>\n",
       "      <td>63.0</td>\n",
       "      <td>95.0</td>\n",
       "      <td>95.0</td>\n",
       "    </tr>\n",
       "    <tr>\n",
       "      <th>2022-12-29</th>\n",
       "      <td>0.0</td>\n",
       "      <td>81.0</td>\n",
       "      <td>95.0</td>\n",
       "      <td>65.0</td>\n",
       "      <td>95.0</td>\n",
       "      <td>95.0</td>\n",
       "    </tr>\n",
       "    <tr>\n",
       "      <th>2022-12-30</th>\n",
       "      <td>0.0</td>\n",
       "      <td>80.0</td>\n",
       "      <td>95.0</td>\n",
       "      <td>65.0</td>\n",
       "      <td>95.0</td>\n",
       "      <td>95.0</td>\n",
       "    </tr>\n",
       "    <tr>\n",
       "      <th>2022-12-31</th>\n",
       "      <td>0.0</td>\n",
       "      <td>78.0</td>\n",
       "      <td>95.0</td>\n",
       "      <td>64.0</td>\n",
       "      <td>95.0</td>\n",
       "      <td>95.0</td>\n",
       "    </tr>\n",
       "  </tbody>\n",
       "</table>\n",
       "<p>8398 rows × 6 columns</p>\n",
       "</div>"
      ],
      "text/plain": [
       "            precip  temp_avg  temp_max  temp_min  target  month_max\n",
       "DATE                                                               \n",
       "2000-01-01     0.0      78.0      93.0       0.0    92.0        NaN\n",
       "2000-01-02     0.0      79.0      92.0      65.0    92.0        NaN\n",
       "2000-01-03     0.0      79.0      92.0      65.0    91.0        NaN\n",
       "2000-01-04     0.0      79.0      91.0      63.0    91.0        NaN\n",
       "2000-01-05     0.0      79.0      91.0      64.0    91.0        NaN\n",
       "...            ...       ...       ...       ...     ...        ...\n",
       "2022-12-27     0.0      78.0      95.0      63.0    95.0       95.0\n",
       "2022-12-28     0.0      79.0      95.0      63.0    95.0       95.0\n",
       "2022-12-29     0.0      81.0      95.0      65.0    95.0       95.0\n",
       "2022-12-30     0.0      80.0      95.0      65.0    95.0       95.0\n",
       "2022-12-31     0.0      78.0      95.0      64.0    95.0       95.0\n",
       "\n",
       "[8398 rows x 6 columns]"
      ]
     },
     "execution_count": 112,
     "metadata": {},
     "output_type": "execute_result"
    }
   ],
   "source": [
    "core_attributes"
   ]
  },
  {
   "cell_type": "raw",
   "id": "cf9b538a",
   "metadata": {},
   "source": [
    "Note that the first 5 values of the rolling average are NaN, because there are not enough values in the window to calculate a rolling average."
   ]
  },
  {
   "cell_type": "markdown",
   "id": "151e282c",
   "metadata": {},
   "source": [
    "This tells u how different is the monthly average temperature from the temperature in the given day "
   ]
  },
  {
   "cell_type": "code",
   "execution_count": 113,
   "id": "f372ed1a",
   "metadata": {},
   "outputs": [],
   "source": [
    "core_attributes[\"month_day_max\"] = core_attributes[\"month_max\"]/core_attributes[\"temp_max\"]"
   ]
  },
  {
   "cell_type": "markdown",
   "id": "f30070fd",
   "metadata": {},
   "source": [
    "Tells  the difference between min and max temperature "
   ]
  },
  {
   "cell_type": "code",
   "execution_count": 114,
   "id": "4945abf3",
   "metadata": {},
   "outputs": [],
   "source": [
    "core_attributes[\"max_min\" ]  = core_attributes[\"temp_max\"] / core_attributes[\"temp_min\"]"
   ]
  },
  {
   "cell_type": "code",
   "execution_count": 115,
   "id": "1ade460a",
   "metadata": {},
   "outputs": [
    {
     "data": {
      "text/html": [
       "<div>\n",
       "<style scoped>\n",
       "    .dataframe tbody tr th:only-of-type {\n",
       "        vertical-align: middle;\n",
       "    }\n",
       "\n",
       "    .dataframe tbody tr th {\n",
       "        vertical-align: top;\n",
       "    }\n",
       "\n",
       "    .dataframe thead th {\n",
       "        text-align: right;\n",
       "    }\n",
       "</style>\n",
       "<table border=\"1\" class=\"dataframe\">\n",
       "  <thead>\n",
       "    <tr style=\"text-align: right;\">\n",
       "      <th></th>\n",
       "      <th>precip</th>\n",
       "      <th>temp_avg</th>\n",
       "      <th>temp_max</th>\n",
       "      <th>temp_min</th>\n",
       "      <th>target</th>\n",
       "      <th>month_max</th>\n",
       "      <th>month_day_max</th>\n",
       "      <th>max_min</th>\n",
       "    </tr>\n",
       "    <tr>\n",
       "      <th>DATE</th>\n",
       "      <th></th>\n",
       "      <th></th>\n",
       "      <th></th>\n",
       "      <th></th>\n",
       "      <th></th>\n",
       "      <th></th>\n",
       "      <th></th>\n",
       "      <th></th>\n",
       "    </tr>\n",
       "  </thead>\n",
       "  <tbody>\n",
       "    <tr>\n",
       "      <th>2000-01-01</th>\n",
       "      <td>0.0</td>\n",
       "      <td>78.0</td>\n",
       "      <td>93.0</td>\n",
       "      <td>0.0</td>\n",
       "      <td>92.0</td>\n",
       "      <td>NaN</td>\n",
       "      <td>NaN</td>\n",
       "      <td>inf</td>\n",
       "    </tr>\n",
       "    <tr>\n",
       "      <th>2000-01-02</th>\n",
       "      <td>0.0</td>\n",
       "      <td>79.0</td>\n",
       "      <td>92.0</td>\n",
       "      <td>65.0</td>\n",
       "      <td>92.0</td>\n",
       "      <td>NaN</td>\n",
       "      <td>NaN</td>\n",
       "      <td>1.415385</td>\n",
       "    </tr>\n",
       "    <tr>\n",
       "      <th>2000-01-03</th>\n",
       "      <td>0.0</td>\n",
       "      <td>79.0</td>\n",
       "      <td>92.0</td>\n",
       "      <td>65.0</td>\n",
       "      <td>91.0</td>\n",
       "      <td>NaN</td>\n",
       "      <td>NaN</td>\n",
       "      <td>1.415385</td>\n",
       "    </tr>\n",
       "    <tr>\n",
       "      <th>2000-01-04</th>\n",
       "      <td>0.0</td>\n",
       "      <td>79.0</td>\n",
       "      <td>91.0</td>\n",
       "      <td>63.0</td>\n",
       "      <td>91.0</td>\n",
       "      <td>NaN</td>\n",
       "      <td>NaN</td>\n",
       "      <td>1.444444</td>\n",
       "    </tr>\n",
       "    <tr>\n",
       "      <th>2000-01-05</th>\n",
       "      <td>0.0</td>\n",
       "      <td>79.0</td>\n",
       "      <td>91.0</td>\n",
       "      <td>64.0</td>\n",
       "      <td>91.0</td>\n",
       "      <td>NaN</td>\n",
       "      <td>NaN</td>\n",
       "      <td>1.421875</td>\n",
       "    </tr>\n",
       "    <tr>\n",
       "      <th>...</th>\n",
       "      <td>...</td>\n",
       "      <td>...</td>\n",
       "      <td>...</td>\n",
       "      <td>...</td>\n",
       "      <td>...</td>\n",
       "      <td>...</td>\n",
       "      <td>...</td>\n",
       "      <td>...</td>\n",
       "    </tr>\n",
       "    <tr>\n",
       "      <th>2022-12-27</th>\n",
       "      <td>0.0</td>\n",
       "      <td>78.0</td>\n",
       "      <td>95.0</td>\n",
       "      <td>63.0</td>\n",
       "      <td>95.0</td>\n",
       "      <td>95.0</td>\n",
       "      <td>1.0</td>\n",
       "      <td>1.507937</td>\n",
       "    </tr>\n",
       "    <tr>\n",
       "      <th>2022-12-28</th>\n",
       "      <td>0.0</td>\n",
       "      <td>79.0</td>\n",
       "      <td>95.0</td>\n",
       "      <td>63.0</td>\n",
       "      <td>95.0</td>\n",
       "      <td>95.0</td>\n",
       "      <td>1.0</td>\n",
       "      <td>1.507937</td>\n",
       "    </tr>\n",
       "    <tr>\n",
       "      <th>2022-12-29</th>\n",
       "      <td>0.0</td>\n",
       "      <td>81.0</td>\n",
       "      <td>95.0</td>\n",
       "      <td>65.0</td>\n",
       "      <td>95.0</td>\n",
       "      <td>95.0</td>\n",
       "      <td>1.0</td>\n",
       "      <td>1.461538</td>\n",
       "    </tr>\n",
       "    <tr>\n",
       "      <th>2022-12-30</th>\n",
       "      <td>0.0</td>\n",
       "      <td>80.0</td>\n",
       "      <td>95.0</td>\n",
       "      <td>65.0</td>\n",
       "      <td>95.0</td>\n",
       "      <td>95.0</td>\n",
       "      <td>1.0</td>\n",
       "      <td>1.461538</td>\n",
       "    </tr>\n",
       "    <tr>\n",
       "      <th>2022-12-31</th>\n",
       "      <td>0.0</td>\n",
       "      <td>78.0</td>\n",
       "      <td>95.0</td>\n",
       "      <td>64.0</td>\n",
       "      <td>95.0</td>\n",
       "      <td>95.0</td>\n",
       "      <td>1.0</td>\n",
       "      <td>1.484375</td>\n",
       "    </tr>\n",
       "  </tbody>\n",
       "</table>\n",
       "<p>8398 rows × 8 columns</p>\n",
       "</div>"
      ],
      "text/plain": [
       "            precip  temp_avg  temp_max  temp_min  target  month_max  \\\n",
       "DATE                                                                  \n",
       "2000-01-01     0.0      78.0      93.0       0.0    92.0        NaN   \n",
       "2000-01-02     0.0      79.0      92.0      65.0    92.0        NaN   \n",
       "2000-01-03     0.0      79.0      92.0      65.0    91.0        NaN   \n",
       "2000-01-04     0.0      79.0      91.0      63.0    91.0        NaN   \n",
       "2000-01-05     0.0      79.0      91.0      64.0    91.0        NaN   \n",
       "...            ...       ...       ...       ...     ...        ...   \n",
       "2022-12-27     0.0      78.0      95.0      63.0    95.0       95.0   \n",
       "2022-12-28     0.0      79.0      95.0      63.0    95.0       95.0   \n",
       "2022-12-29     0.0      81.0      95.0      65.0    95.0       95.0   \n",
       "2022-12-30     0.0      80.0      95.0      65.0    95.0       95.0   \n",
       "2022-12-31     0.0      78.0      95.0      64.0    95.0       95.0   \n",
       "\n",
       "            month_day_max   max_min  \n",
       "DATE                                 \n",
       "2000-01-01            NaN       inf  \n",
       "2000-01-02            NaN  1.415385  \n",
       "2000-01-03            NaN  1.415385  \n",
       "2000-01-04            NaN  1.444444  \n",
       "2000-01-05            NaN  1.421875  \n",
       "...                   ...       ...  \n",
       "2022-12-27            1.0  1.507937  \n",
       "2022-12-28            1.0  1.507937  \n",
       "2022-12-29            1.0  1.461538  \n",
       "2022-12-30            1.0  1.461538  \n",
       "2022-12-31            1.0  1.484375  \n",
       "\n",
       "[8398 rows x 8 columns]"
      ]
     },
     "execution_count": 115,
     "metadata": {},
     "output_type": "execute_result"
    }
   ],
   "source": [
    "core_attributes"
   ]
  },
  {
   "cell_type": "code",
   "execution_count": 116,
   "id": "daded63d",
   "metadata": {},
   "outputs": [],
   "source": [
    "core_attributes = core_attributes.iloc[30:,:].copy()"
   ]
  },
  {
   "cell_type": "code",
   "execution_count": 117,
   "id": "6c75b821",
   "metadata": {},
   "outputs": [],
   "source": [
    "input_features = [\"precip\" , \"temp_avg\",\"temp_min\",\"temp_max\" , \"month_max\",\"month_day_max\" , \"max_min\"]"
   ]
  },
  {
   "cell_type": "code",
   "execution_count": 118,
   "id": "c6f61ecc",
   "metadata": {},
   "outputs": [
    {
     "name": "stdout",
     "output_type": "stream",
     "text": [
      "['precip', 'temp_avg', 'temp_min', 'temp_max', 'month_max', 'month_day_max', 'max_min']\n"
     ]
    }
   ],
   "source": [
    "print(input_features)"
   ]
  },
  {
   "cell_type": "code",
   "execution_count": 119,
   "id": "9a968474",
   "metadata": {},
   "outputs": [
    {
     "data": {
      "text/plain": [
       "Index(['precip', 'temp_avg', 'temp_max', 'temp_min', 'target', 'month_max',\n",
       "       'month_day_max', 'max_min'],\n",
       "      dtype='object')"
      ]
     },
     "execution_count": 119,
     "metadata": {},
     "output_type": "execute_result"
    }
   ],
   "source": [
    "core_attributes.columns "
   ]
  },
  {
   "cell_type": "markdown",
   "id": "99d5b041",
   "metadata": {},
   "source": [
    "Predictions using new input features"
   ]
  },
  {
   "cell_type": "code",
   "execution_count": 120,
   "id": "604d2bcd",
   "metadata": {},
   "outputs": [],
   "source": [
    "error , combined = create_predictions(input_features ,core_attributes,reg)"
   ]
  },
  {
   "cell_type": "code",
   "execution_count": 121,
   "id": "4181f528",
   "metadata": {},
   "outputs": [
    {
     "data": {
      "text/plain": [
       "0.7226464597993432"
      ]
     },
     "execution_count": 121,
     "metadata": {},
     "output_type": "execute_result"
    }
   ],
   "source": [
    "error"
   ]
  },
  {
   "cell_type": "code",
   "execution_count": 122,
   "id": "d6342d1a",
   "metadata": {},
   "outputs": [
    {
     "data": {
      "text/html": [
       "<div>\n",
       "<style scoped>\n",
       "    .dataframe tbody tr th:only-of-type {\n",
       "        vertical-align: middle;\n",
       "    }\n",
       "\n",
       "    .dataframe tbody tr th {\n",
       "        vertical-align: top;\n",
       "    }\n",
       "\n",
       "    .dataframe thead th {\n",
       "        text-align: right;\n",
       "    }\n",
       "</style>\n",
       "<table border=\"1\" class=\"dataframe\">\n",
       "  <thead>\n",
       "    <tr style=\"text-align: right;\">\n",
       "      <th></th>\n",
       "      <th>actual</th>\n",
       "      <th>predictions</th>\n",
       "    </tr>\n",
       "    <tr>\n",
       "      <th>DATE</th>\n",
       "      <th></th>\n",
       "      <th></th>\n",
       "    </tr>\n",
       "  </thead>\n",
       "  <tbody>\n",
       "    <tr>\n",
       "      <th>2021-01-01</th>\n",
       "      <td>94.0</td>\n",
       "      <td>93.804265</td>\n",
       "    </tr>\n",
       "    <tr>\n",
       "      <th>2021-01-02</th>\n",
       "      <td>94.0</td>\n",
       "      <td>93.400185</td>\n",
       "    </tr>\n",
       "    <tr>\n",
       "      <th>2021-01-03</th>\n",
       "      <td>94.0</td>\n",
       "      <td>93.224336</td>\n",
       "    </tr>\n",
       "    <tr>\n",
       "      <th>2021-01-04</th>\n",
       "      <td>94.0</td>\n",
       "      <td>93.130799</td>\n",
       "    </tr>\n",
       "    <tr>\n",
       "      <th>2021-01-05</th>\n",
       "      <td>94.0</td>\n",
       "      <td>93.130799</td>\n",
       "    </tr>\n",
       "    <tr>\n",
       "      <th>...</th>\n",
       "      <td>...</td>\n",
       "      <td>...</td>\n",
       "    </tr>\n",
       "    <tr>\n",
       "      <th>2022-12-27</th>\n",
       "      <td>95.0</td>\n",
       "      <td>94.407168</td>\n",
       "    </tr>\n",
       "    <tr>\n",
       "      <th>2022-12-28</th>\n",
       "      <td>95.0</td>\n",
       "      <td>94.541861</td>\n",
       "    </tr>\n",
       "    <tr>\n",
       "      <th>2022-12-29</th>\n",
       "      <td>95.0</td>\n",
       "      <td>94.724964</td>\n",
       "    </tr>\n",
       "    <tr>\n",
       "      <th>2022-12-30</th>\n",
       "      <td>95.0</td>\n",
       "      <td>94.590271</td>\n",
       "    </tr>\n",
       "    <tr>\n",
       "      <th>2022-12-31</th>\n",
       "      <td>95.0</td>\n",
       "      <td>94.364485</td>\n",
       "    </tr>\n",
       "  </tbody>\n",
       "</table>\n",
       "<p>727 rows × 2 columns</p>\n",
       "</div>"
      ],
      "text/plain": [
       "            actual  predictions\n",
       "DATE                           \n",
       "2021-01-01    94.0    93.804265\n",
       "2021-01-02    94.0    93.400185\n",
       "2021-01-03    94.0    93.224336\n",
       "2021-01-04    94.0    93.130799\n",
       "2021-01-05    94.0    93.130799\n",
       "...            ...          ...\n",
       "2022-12-27    95.0    94.407168\n",
       "2022-12-28    95.0    94.541861\n",
       "2022-12-29    95.0    94.724964\n",
       "2022-12-30    95.0    94.590271\n",
       "2022-12-31    95.0    94.364485\n",
       "\n",
       "[727 rows x 2 columns]"
      ]
     },
     "execution_count": 122,
     "metadata": {},
     "output_type": "execute_result"
    }
   ],
   "source": [
    "combined "
   ]
  },
  {
   "cell_type": "code",
   "execution_count": null,
   "id": "338659a1",
   "metadata": {},
   "outputs": [],
   "source": [
    "\n",
    "com2 = combined.plot(kind  = \"hist\")"
   ]
  },
  {
   "cell_type": "code",
   "execution_count": null,
   "id": "7573b139",
   "metadata": {},
   "outputs": [],
   "source": [
    "plt2 = combined.plot()"
   ]
  },
  {
   "cell_type": "markdown",
   "id": "c31c869a",
   "metadata": {},
   "source": [
    "Adding in monthly and daily averages"
   ]
  },
  {
   "cell_type": "markdown",
   "id": "443c85ac",
   "metadata": {},
   "source": [
    "Now we add more input features to get the perfect best fit line"
   ]
  },
  {
   "cell_type": "code",
   "execution_count": null,
   "id": "e2bad20e",
   "metadata": {},
   "outputs": [],
   "source": [
    "# figure out monthly avg temperature \n",
    "core_attributes[\"monthly_avg_temp\"] = core_attributes[\"temp_max\"].groupby(core_attributes.index.month).apply(lambda x :x.expanding(1).mean())"
   ]
  },
  {
   "cell_type": "code",
   "execution_count": null,
   "id": "8984e6d4",
   "metadata": {},
   "outputs": [],
   "source": [
    "core_attributes"
   ]
  },
  {
   "cell_type": "code",
   "execution_count": null,
   "id": "09fc1f94",
   "metadata": {},
   "outputs": [],
   "source": [
    "core_attributes[\"day_of_year_avg_temp\"]  = core_attributes[\"temp_max\"].groupby(core_attributes.index.day_of_year).apply(lambda x :x.expanding(1).mean())"
   ]
  },
  {
   "cell_type": "markdown",
   "id": "97383cff",
   "metadata": {},
   "source": [
    "core_attributes[\"temp_max\"]: selects the temp_max column from the core_attributes DataFrame\n",
    ".groupby(core_attributes.index.month): groups the selected column by the month of the index (assuming the index is a datetime object)\n",
    ".apply(lambda x :x.expanding(1).mean()): applies a lambda function to each group, which calculates the expanding mean of the group. The expanding(1) method calculates the mean from the first value up to the current value, and the .mean() method calculates the mean of these values. This effectively calculates the cumulative average temperature for each month over time."
   ]
  },
  {
   "cell_type": "code",
   "execution_count": null,
   "id": "ad879690",
   "metadata": {},
   "outputs": [],
   "source": [
    "core_attributes\n"
   ]
  },
  {
   "cell_type": "markdown",
   "id": "64174059",
   "metadata": {},
   "source": [
    "Update the input_feature"
   ]
  },
  {
   "cell_type": "code",
   "execution_count": null,
   "id": "46562f57",
   "metadata": {},
   "outputs": [],
   "source": [
    "input_features = [\"precip\" , \"temp_avg\",\"temp_min\",\"temp_max\" , \"month_max\",\"month_day_max\" , \"max_min\" , \"monthly_avg_temp\",\t\"day_of_year_avg_temp\"]"
   ]
  },
  {
   "cell_type": "code",
   "execution_count": null,
   "id": "a2dc4cee",
   "metadata": {},
   "outputs": [],
   "source": [
    "error , combined = create_predictions(input_features , core_attributes , reg)\n"
   ]
  },
  {
   "cell_type": "code",
   "execution_count": null,
   "id": "2da76b70",
   "metadata": {},
   "outputs": [],
   "source": []
  },
  {
   "cell_type": "code",
   "execution_count": null,
   "id": "a41aed33",
   "metadata": {},
   "outputs": [],
   "source": [
    "error"
   ]
  },
  {
   "cell_type": "code",
   "execution_count": null,
   "id": "4bc88ae1",
   "metadata": {},
   "outputs": [],
   "source": [
    "combined\n"
   ]
  },
  {
   "cell_type": "code",
   "execution_count": null,
   "id": "008b7f24",
   "metadata": {},
   "outputs": [],
   "source": [
    "com3 = combined.plot(kind = \"hist\")"
   ]
  },
  {
   "cell_type": "code",
   "execution_count": null,
   "id": "42d42c25",
   "metadata": {},
   "outputs": [],
   "source": [
    "plt = combined.plot()"
   ]
  },
  {
   "cell_type": "markdown",
   "id": "62efdc8a",
   "metadata": {},
   "source": [
    "# comparing the difference in temp by plotting the graph "
   ]
  },
  {
   "cell_type": "code",
   "execution_count": null,
   "id": "c46bd869",
   "metadata": {
    "scrolled": true
   },
   "outputs": [],
   "source": [
    "# fig, ax = plt.subplots()\n",
    "\n",
    "# # Plot the data\n",
    "# ax.plot(com1 , com2 , com3)\n",
    "\n",
    "# # Display the graph\n",
    "# plt.show()\n",
    "import matplotlib.pyplot as plt\n",
    "fig, axs = plt.subplots()\n",
    "\n",
    "# Plot the data on the axis objects\n",
    "axs.plot(com1, com2)\n",
    "axs.plot(com1, com3)\n",
    "\n",
    "# Display the graph\n",
    "plt.show()"
   ]
  },
  {
   "cell_type": "markdown",
   "id": "ebb2eaa7",
   "metadata": {},
   "source": [
    "# Running model Diagnostics"
   ]
  },
  {
   "cell_type": "markdown",
   "id": "b9f58a3b",
   "metadata": {},
   "source": [
    "The regression coefficients in a linear regression model represent the slope of the line that best fits the data, indicating the strength and direction of the relationship between the dependent variable and each independent variable."
   ]
  },
  {
   "cell_type": "code",
   "execution_count": null,
   "id": "28a7df0e",
   "metadata": {},
   "outputs": [],
   "source": [
    "reg.coef_"
   ]
  },
  {
   "cell_type": "code",
   "execution_count": null,
   "id": "fe5aadd1",
   "metadata": {},
   "outputs": [],
   "source": [
    "corr_matrix = core_attributes.corr()[\"target\"]"
   ]
  },
  {
   "cell_type": "markdown",
   "id": "0757ebb6",
   "metadata": {},
   "source": [
    "what corelation tells about in pandas\n",
    "\n",
    "In pandas, correlation measures the strength of a linear relationship between two variables. The correlation coefficient is a statistical measure that ranges between -1 and 1, with 0 indicating no correlation.\n",
    "\n",
    "A positive correlation coefficient indicates a direct relationship between the two variables, which means that as one variable increases, the other variable also tends to increase. For example, in a dataset of temperatures and ice cream sales, there would be a positive correlation between temperature and sales, since higher temperatures tend to lead to more ice cream sales.\n",
    "\n",
    "A negative correlation coefficient indicates an inverse relationship between the two variables, which means that as one variable increases, the other variable tends to decrease. For example, in a dataset of rainfall and outdoor pool usage, there would be a negative correlation between rainfall and pool usage, since more rainfall tends to decrease the number of people using outdoor pools.\n",
    "\n",
    "A correlation coefficient of 0 indicates that there is no linear relationship between the two variables. However, it is important to note that this does not necessarily mean that there is no relationship between the variables at all - there may be a non-linear or complex relationship that is not captured by the correlation coefficient."
   ]
  },
  {
   "cell_type": "markdown",
   "id": "4e8e9df5",
   "metadata": {},
   "source": [
    "This would indicate that \"precip\" and \"month_day_max\" are strongly negatively correlated with \"target\", while all are postively correlated with target"
   ]
  },
  {
   "cell_type": "code",
   "execution_count": null,
   "id": "276c0284",
   "metadata": {},
   "outputs": [],
   "source": [
    "corr_matrix"
   ]
  },
  {
   "cell_type": "code",
   "execution_count": null,
   "id": "6dc361b6",
   "metadata": {},
   "outputs": [],
   "source": [
    "combined[\"diff\"]   = (combined[\"actual\"] - combined[\"predictions\"]).abs()"
   ]
  },
  {
   "cell_type": "code",
   "execution_count": null,
   "id": "6f5ed124",
   "metadata": {},
   "outputs": [],
   "source": [
    "combined"
   ]
  },
  {
   "cell_type": "code",
   "execution_count": null,
   "id": "7585e32d",
   "metadata": {},
   "outputs": [],
   "source": [
    "combined.sort_values(\"diff\", ascending = False).head()"
   ]
  },
  {
   "cell_type": "code",
   "execution_count": null,
   "id": "b23a9590",
   "metadata": {},
   "outputs": [],
   "source": [
    "# try to predict the temp of the entire week rather then the single day\n",
    "# calculate more predictors and see the performance of the model \n",
    "core_attributes[\"weekly_average_temp\"]  = core_attributes[\"temp_max\"].resample(\"W\").apply(lambda x :x.expanding(1).mean())"
   ]
  },
  {
   "cell_type": "code",
   "execution_count": null,
   "id": "388f9cd3",
   "metadata": {
    "scrolled": true
   },
   "outputs": [],
   "source": [
    "core_attributes"
   ]
  },
  {
   "cell_type": "code",
   "execution_count": null,
   "id": "235826a8",
   "metadata": {},
   "outputs": [],
   "source": [
    "input_features= [\"precip\"  , \"temp_avg\",\"temp_min\",\"temp_avg\" , \"month_max\" ,\"month_day_max\",\"max_min\",\"monthly_avg_temp\" , \"day_of_year_avg_temp\",\"weekly_average_temp\"]"
   ]
  },
  {
   "cell_type": "code",
   "execution_count": null,
   "id": "abef5147",
   "metadata": {},
   "outputs": [],
   "source": [
    "error , combined = create_predictions(input_features , core_attributes , reg)"
   ]
  },
  {
   "cell_type": "code",
   "execution_count": null,
   "id": "ef1cdff4",
   "metadata": {},
   "outputs": [],
   "source": [
    "error"
   ]
  },
  {
   "cell_type": "code",
   "execution_count": null,
   "id": "ecf03b52",
   "metadata": {},
   "outputs": [],
   "source": [
    "combined"
   ]
  },
  {
   "cell_type": "code",
   "execution_count": null,
   "id": "6a11aa1e",
   "metadata": {},
   "outputs": [],
   "source": [
    "combined.plot(kind = \"hist\")"
   ]
  },
  {
   "cell_type": "code",
   "execution_count": null,
   "id": "b0f6e2c5",
   "metadata": {},
   "outputs": [],
   "source": [
    "core_attributes.head(5)"
   ]
  },
  {
   "cell_type": "code",
   "execution_count": null,
   "id": "29807705",
   "metadata": {},
   "outputs": [],
   "source": [
    "# To chage the name of the attributes we used rename method in pandas \n",
    "core= core_attributes.rename(columns={'month_max' :'month_max_temp'  , 'month_day_max'  :'month_day_max'}  )"
   ]
  },
  {
   "cell_type": "code",
   "execution_count": null,
   "id": "b03fd8c6",
   "metadata": {},
   "outputs": [],
   "source": []
  },
  {
   "cell_type": "code",
   "execution_count": null,
   "id": "78363cd2",
   "metadata": {},
   "outputs": [],
   "source": [
    "core"
   ]
  },
  {
   "cell_type": "code",
   "execution_count": null,
   "id": "46abcdb8",
   "metadata": {},
   "outputs": [],
   "source": [
    "core.to_csv('climate_data.csv', index=True)"
   ]
  },
  {
   "cell_type": "code",
   "execution_count": null,
   "id": "012a5b74",
   "metadata": {},
   "outputs": [],
   "source": [
    "core.dtype\n"
   ]
  },
  {
   "cell_type": "code",
   "execution_count": 2,
   "id": "3561a120",
   "metadata": {},
   "outputs": [
    {
     "name": "stdout",
     "output_type": "stream",
     "text": [
      "5\n"
     ]
    }
   ],
   "source": [
    "def count_consonants(s1, s2):\n",
    "    # Concatenate the strings and convert to lowercase\n",
    "    combined = (s1 + s2).lower()\n",
    "    \n",
    "    # Define consonants\n",
    "    consonants = \"bcdfghjklmnpqrstvwxyz\"\n",
    "    \n",
    "    # Count and return the number of consonants in the combined string\n",
    "    count = sum(1 for char in combined if char in consonants)\n",
    "    return count\n",
    "\n",
    "# Example strings\n",
    "string1 = \"tide\"\n",
    "string2 = \"best\"\n",
    "\n",
    "# Printing the count of consonants in the concatenated and lowercased string\n",
    "print(count_consonants(string1, string2))\n"
   ]
  },
  {
   "cell_type": "code",
   "execution_count": 3,
   "id": "0a5c9c0c",
   "metadata": {},
   "outputs": [
    {
     "ename": "SyntaxError",
     "evalue": "cannot assign to literal (1077616348.py, line 1)",
     "output_type": "error",
     "traceback": [
      "\u001b[1;36m  Cell \u001b[1;32mIn[3], line 1\u001b[1;36m\u001b[0m\n\u001b[1;33m    p  = 8 , q = 6 , r = 4\u001b[0m\n\u001b[1;37m         ^\u001b[0m\n\u001b[1;31mSyntaxError\u001b[0m\u001b[1;31m:\u001b[0m cannot assign to literal\n"
     ]
    }
   ],
   "source": [
    "p  =  8 , q = 6 , r = 4 \n",
    "\n",
    "if((q&r)<(p-q)):\n",
    "    q = (q+q)+q \n",
    "    q = (q^5)&r \n",
    "\n",
    "\n",
    "r = (q+r)+p \n",
    "c =  p+q+r\n",
    "print(c)"
   ]
  },
  {
   "cell_type": "code",
   "execution_count": 4,
   "id": "ee6efaff",
   "metadata": {},
   "outputs": [
    {
     "name": "stdout",
     "output_type": "stream",
     "text": [
      "Sorted List: [32, 42, 45, 54, 56, 60, 67]\n",
      "Number of Swaps: 12\n"
     ]
    }
   ],
   "source": [
    "def bubble_sort(arr):\n",
    "    n = len(arr)\n",
    "    swap_count = 0\n",
    "    \n",
    "    for i in range(n - 1):\n",
    "        swapped = False\n",
    "        for j in range(n - 1 - i):\n",
    "            if arr[j] > arr[j + 1]:\n",
    "                arr[j], arr[j + 1] = arr[j + 1], arr[j]\n",
    "                swap_count += 1\n",
    "                swapped = True\n",
    "        if not swapped:\n",
    "            break\n",
    "    \n",
    "    return swap_count\n",
    "\n",
    "# Given list\n",
    "arr = [60, 45, 32, 56, 67, 54, 42]\n",
    "\n",
    "# Apply bubble sort and get the number of swaps\n",
    "swaps = bubble_sort(arr)\n",
    "\n",
    "# Print the sorted list and the number of swaps\n",
    "print(\"Sorted List:\", arr)\n",
    "print(\"Number of Swaps:\", swaps)\n"
   ]
  },
  {
   "cell_type": "code",
   "execution_count": null,
   "id": "bec10dd1",
   "metadata": {},
   "outputs": [],
   "source": []
  },
  {
   "cell_type": "code",
   "execution_count": null,
   "id": "3445b65c",
   "metadata": {},
   "outputs": [],
   "source": []
  }
 ],
 "metadata": {
  "kernelspec": {
   "display_name": "Python 3 (ipykernel)",
   "language": "python",
   "name": "python3"
  },
  "language_info": {
   "codemirror_mode": {
    "name": "ipython",
    "version": 3
   },
   "file_extension": ".py",
   "mimetype": "text/x-python",
   "name": "python",
   "nbconvert_exporter": "python",
   "pygments_lexer": "ipython3",
   "version": "3.11.4"
  }
 },
 "nbformat": 4,
 "nbformat_minor": 5
}
